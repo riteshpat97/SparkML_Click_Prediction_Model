{
 "cells": [
  {
   "cell_type": "markdown",
   "id": "opening-satisfaction",
   "metadata": {},
   "source": [
    "---\n",
    "---\n",
    "\n",
    "\n",
    "<center><h1> Spark ML - Click Prediction </h1></center>\n",
    "\n",
    "----\n",
    "\n",
    "An Advertising company delivers more than 3 Billion clicks per month to its advertisers delivering 4.5 Million monthly sales events. \n",
    "\n",
    "It buys space on the Publishers site and then shows an advertisement about the Advertiser at that space. The advertiser pays the network for every conversion from the clicks. The network in turns pays to the publisher after keeping it's commission. The company wants to leverage the machine learning to improve the conversions for its customers.\n",
    "\n",
    "So, in this notebook we will build a classification model to predict whether a particular advertisement will be clicked or not.\n",
    "\n",
    "----\n",
    "\n",
    "So for this notebook, we have divided the dataset into 3 different parts:\n",
    "   * **`TRAIN`** - It has 1400000 Rows which will be used to train the model.\n",
    "   * **`VALIDATION`** - It has 350000 Rows which will be used to evaluate the model.\n",
    "   * **`TEST`** - It has 350000 Rows on which we will test our final model.\n",
    "\n",
    "\n",
    "\n",
    "---\n",
    "\n",
    "#### `IMPORTING THE REQUIRED LIBRARIES`\n",
    "\n",
    "---"
   ]
  },
  {
   "cell_type": "code",
   "execution_count": null,
   "id": "hearing-decimal",
   "metadata": {},
   "outputs": [],
   "source": [
    "# # uncomment and run the following command to install the matplotlib \n",
    "# !pip3 install matplotlib --user"
   ]
  },
  {
   "cell_type": "code",
   "execution_count": 1,
   "id": "black-desktop",
   "metadata": {},
   "outputs": [],
   "source": [
    "# importing the required libraries\n",
    "from pyspark.sql import SparkSession\n",
    "import pyspark.sql.types as tp\n",
    "from pyspark.sql import functions as F\n",
    "\n",
    "# libraries to make plots\n",
    "import matplotlib.pyplot as plt\n",
    "%matplotlib inline"
   ]
  },
  {
   "cell_type": "markdown",
   "id": "binary-athens",
   "metadata": {},
   "source": [
    "#### `Create Spark Session`\n",
    "\n",
    "---"
   ]
  },
  {
   "cell_type": "code",
   "execution_count": 2,
   "id": "logical-profit",
   "metadata": {},
   "outputs": [],
   "source": [
    "# create spark session\n",
    "spark = SparkSession.builder.getOrCreate()"
   ]
  },
  {
   "cell_type": "markdown",
   "id": "graphic-growth",
   "metadata": {},
   "source": [
    "---\n",
    "\n",
    "#### `READING THE DATASET`\n",
    "\n",
    "---\n",
    "\n",
    "Now, first of all, we will read all the datasets and each of the datasets the following columns\n",
    "\n",
    " * **`ID`**:   Unique ID of the Click\n",
    " * **`Country`**:   Country Code\n",
    " * **`Carrier`**:   Wireless Network Operator Code\n",
    " * **`TrafficType`**:  Whether the advertisement is for Adults or mainstream.\n",
    " * **`ClickDate`**:  Date at which the advertisement was clicked\n",
    " * **`Device`**:  Type of Device from which advertisement was clicked\n",
    " * **`Browser`**:  Type of Browser from which advertisement was clicked\n",
    " * **`OS`**:  Type of OS from which advertisement was clicked\n",
    " * **`publisherID`**:  Unique ID of publisher\n",
    " * **`advertiserCampaignId`**: Unique ID of campaign of advertisement\n",
    " * **`Fraud`**:  If the click was fraud or not\n",
    " * **`ConversionStatus`**:  If the click was fraud or not  ( **`Target Variable`** )\n",
    "\n",
    "---"
   ]
  },
  {
   "cell_type": "markdown",
   "id": "foreign-texture",
   "metadata": {},
   "source": [
    "---\n",
    "\n",
    "The data looks something like this:\n",
    "\n",
    "---\n",
    "\n",
    "\n",
    "![](images/sample_data.png)\n",
    "\n",
    "---"
   ]
  },
  {
   "cell_type": "code",
   "execution_count": 3,
   "id": "twenty-timothy",
   "metadata": {},
   "outputs": [],
   "source": [
    "# reading the train data\n",
    "train_data = spark.read.csv(\"Spark_ML_Project/dataset/train.csv\",inferSchema=True, header=True)\n",
    "\n",
    "# reading the validation data\n",
    "valid_data = spark.read.csv(\"Spark_ML_Project/dataset/valid.csv\",inferSchema=True, header=True)\n",
    "\n",
    "# reading the test data\n",
    "test_data  = spark.read.csv(\"Spark_ML_Project/dataset/test.csv\", inferSchema=True, header=True)"
   ]
  },
  {
   "cell_type": "markdown",
   "id": "gorgeous-species",
   "metadata": {},
   "source": [
    "---\n",
    "\n",
    "# `DATA EXPLORATION`\n",
    "\n",
    "Now, that we have read the data, the first step is to explore the data. We will try to find out the following things from the data.\n",
    "\n",
    "---\n",
    "**`1. Variable Identification`**\n",
    "\n",
    "- Data Type of the columns\n",
    "\n",
    "**`2. Univariate Analysis`**\n",
    "- Explore the Target Variable ( `ConversionStatus` )\n",
    "- Check for the Null Values in each column\n",
    "- Check for the Distinct Values in each column\n",
    "- Frequency of each category for the following columns\n",
    "    - Country\n",
    "    - Browser\n",
    "    - Device\n",
    "    - OS\n",
    "\n",
    "**`3. Bivariate Analysis`**\n",
    "\n",
    "- Number of Clicks for each category of Country\n",
    "- Number of Clicks for each catefory of Browser\n",
    "- Number of Clicks for each catefory of Device\n",
    "- Number of Clicks for each catefory of OS\n",
    "\n",
    "---"
   ]
  },
  {
   "cell_type": "markdown",
   "id": "prostate-monte",
   "metadata": {},
   "source": [
    "##  `VARIABLE INDENTIFICATION`\n",
    "\n",
    "#### `Data Type of the Columns`\n",
    "\n",
    "---"
   ]
  },
  {
   "cell_type": "code",
   "execution_count": 4,
   "id": "experimental-wheat",
   "metadata": {},
   "outputs": [
    {
     "name": "stdout",
     "output_type": "stream",
     "text": [
      "root\n",
      " |-- ID: integer (nullable = true)\n",
      " |-- Country: string (nullable = true)\n",
      " |-- Carrier: double (nullable = true)\n",
      " |-- TrafficType: string (nullable = true)\n",
      " |-- ClickDate: timestamp (nullable = true)\n",
      " |-- Device: string (nullable = true)\n",
      " |-- Browser: string (nullable = true)\n",
      " |-- OS: string (nullable = true)\n",
      " |-- ConversionStatus: boolean (nullable = true)\n",
      " |-- publisherId: string (nullable = true)\n",
      " |-- advertiserCampaignId: double (nullable = true)\n",
      " |-- Fraud: double (nullable = true)\n",
      "\n"
     ]
    }
   ],
   "source": [
    "# data type of the columns\n",
    "train_data.printSchema()"
   ]
  },
  {
   "cell_type": "markdown",
   "id": "noble-summit",
   "metadata": {},
   "source": [
    "---\n",
    "\n",
    "**`Numerical`**\n",
    "- ID\n",
    "- Carrier (It is numerical in nature but it is `network code`, so we will treat it as `categorical variable`)\n",
    "- Fraud\n",
    "- advertiserCampaignId (It is numerical in nature but still values are code representing different campaigns, so we will treat it as `categorical variable`)\n",
    "\n",
    "**`Categorical`**\n",
    "- Country\n",
    "- TrafficType\n",
    "- Device\n",
    "- Browser\n",
    "- OS\n",
    "- publisherId\n",
    "\n",
    "\n",
    "**`Time-Based`**\n",
    "- ClickDate\n",
    "\n",
    "**`Boolean`**\n",
    "- ConversionStatus (We will have to type cast it into the integer type to do some aggregation operations on it for the data exploration purposes.)\n",
    "\n",
    "\n",
    "---"
   ]
  },
  {
   "cell_type": "markdown",
   "id": "conscious-massachusetts",
   "metadata": {},
   "source": [
    "## `UNIVARIATE ANALYSIS`\n",
    "\n",
    "---"
   ]
  },
  {
   "cell_type": "markdown",
   "id": "heavy-millennium",
   "metadata": {},
   "source": [
    "#### `Exploring the Target Variable`\n",
    "\n",
    "---\n",
    "\n",
    "The `Target Variable` for our use-case is `ConversionStatus` and this column has `boolean` data type. Let's find out how much the data is imbalance, i.e. what percentage of data points has the target variable `true` and `false`?\n",
    "\n",
    "---"
   ]
  },
  {
   "cell_type": "code",
   "execution_count": 5,
   "id": "governing-arena",
   "metadata": {
    "scrolled": true
   },
   "outputs": [
    {
     "name": "stdout",
     "output_type": "stream",
     "text": [
      "+----------------+-----------------------+-------------------------------------------+\n",
      "|ConversionStatus|count(ConversionStatus)|((count(ConversionStatus) / 1400000) * 100)|\n",
      "+----------------+-----------------------+-------------------------------------------+\n",
      "|            true|                    874|                       0.062428571428571424|\n",
      "|           false|                1399126|                          99.93757142857143|\n",
      "+----------------+-----------------------+-------------------------------------------+\n",
      "\n"
     ]
    }
   ],
   "source": [
    "# number of data points in each category and their percentage\n",
    "target_variable = train_data.groupBy(\"ConversionStatus\").agg(F.count(\"ConversionStatus\"),\n",
    "                                                            (F.count(\"ConversionStatus\")/train_data.count())*100)\n",
    "target_variable.show()"
   ]
  },
  {
   "cell_type": "markdown",
   "id": "figured-income",
   "metadata": {},
   "source": [
    "Let's change these columns names to simpler ones using the `alias` function and also round of the percentage upto 4 decimal places.\n",
    "\n",
    "---"
   ]
  },
  {
   "cell_type": "code",
   "execution_count": 6,
   "id": "thermal-stephen",
   "metadata": {},
   "outputs": [
    {
     "name": "stdout",
     "output_type": "stream",
     "text": [
      "+----------------+-------+----------+\n",
      "|ConversionStatus|  count|percentage|\n",
      "+----------------+-------+----------+\n",
      "|            true|    874|    0.0624|\n",
      "|           false|1399126|   99.9376|\n",
      "+----------------+-------+----------+\n",
      "\n"
     ]
    }
   ],
   "source": [
    "# number of data points in each category and their percentage upto 4 decimal points\n",
    "target_variable = train_data.groupBy(\"ConversionStatus\").agg(F.count(\"ConversionStatus\").alias(\"count\"),\n",
    "                                           F.round((F.count(\"ConversionStatus\")/train_data.count())*100, 4).alias(\"percentage\"))\n",
    "\n",
    "target_variable.show()"
   ]
  },
  {
   "cell_type": "markdown",
   "id": "acquired-bulgarian",
   "metadata": {},
   "source": [
    "---\n",
    "\n",
    "The data type of the target variable is `Boolean` in nature and we won't be able to use it in this format for further exploration So, let's first, we will change data type of the target variable `ConversionStatus` from `Boolean` to `Integer`.\n",
    "\n",
    "---"
   ]
  },
  {
   "cell_type": "code",
   "execution_count": 7,
   "id": "seasonal-practice",
   "metadata": {},
   "outputs": [],
   "source": [
    "# type cast the target variable\n",
    "train_data = train_data.withColumn(\"ConversionStatus\", F.col(\"ConversionStatus\").cast(tp.IntegerType()))"
   ]
  },
  {
   "cell_type": "code",
   "execution_count": 8,
   "id": "stunning-parliament",
   "metadata": {},
   "outputs": [],
   "source": [
    "# type cast the target variable of test and validation data\n",
    "valid_data = valid_data.withColumn(\"ConversionStatus\", F.col(\"ConversionStatus\").cast(tp.IntegerType()))\n",
    "test_data = test_data.withColumn(\"ConversionStatus\", F.col(\"ConversionStatus\").cast(tp.IntegerType()))"
   ]
  },
  {
   "cell_type": "markdown",
   "id": "registered-authority",
   "metadata": {},
   "source": [
    "----\n",
    "\n",
    "#### `CHECK FOR THE NULL VALUES IN EACH COLUMN`\n",
    "\n",
    "---"
   ]
  },
  {
   "cell_type": "code",
   "execution_count": 9,
   "id": "quarterly-wyoming",
   "metadata": {},
   "outputs": [
    {
     "name": "stdout",
     "output_type": "stream",
     "text": [
      "ID 0\n",
      "Country 7514\n",
      "Carrier 0\n",
      "TrafficType 200726\n",
      "ClickDate 0\n",
      "Device 1836\n",
      "Browser 5065\n",
      "OS 4776\n",
      "ConversionStatus 0\n",
      "publisherId 0\n",
      "advertiserCampaignId 5\n",
      "Fraud 0\n"
     ]
    }
   ],
   "source": [
    "### null values in each column\n",
    "for c in train_data.columns:\n",
    "    # define the condition\n",
    "    missing_values = F.isnull(c)\n",
    "    \n",
    "    # filter the data with condition and count the number of data points\n",
    "    missing_values = train_data.filter(missing_values).count()\n",
    "    \n",
    "    # print the result\n",
    "    print(c, missing_values)"
   ]
  },
  {
   "cell_type": "markdown",
   "id": "acceptable-explorer",
   "metadata": {},
   "source": [
    "---\n",
    "\n",
    "So, we have null values in most of the columns:\n",
    "\n",
    " * **`ID`**:   0\n",
    " * **`Country`**:   7514\n",
    " * **`Carrier`**:   0\n",
    " * **`TrafficType`**:  200726\n",
    " * **`ClickDate`**:  0\n",
    " * **`Device`**:  1836\n",
    " * **`Browser`**:  5065\n",
    " * **`OS`**:  4776\n",
    " * **`publisherID`**:  0\n",
    " * **`advertiserCampaignId`**: 5\n",
    " * **`Fraud`**:  0\n",
    " * **`ConversionStatus`**:  0\n",
    "\n",
    "\n",
    "---"
   ]
  },
  {
   "cell_type": "markdown",
   "id": "nasty-train",
   "metadata": {},
   "source": [
    "---\n",
    "\n",
    "#### `Distinct Values in Each Column`\n",
    "\n",
    "---\n",
    "\n",
    "Next, we will find out the number of distinct values in each of the column. \n",
    "\n",
    "---"
   ]
  },
  {
   "cell_type": "code",
   "execution_count": 10,
   "id": "structural-concrete",
   "metadata": {},
   "outputs": [
    {
     "data": {
      "text/html": [
       "<table border='1'>\n",
       "<tr><th>ID</th><th>Country</th><th>Carrier</th><th>TrafficType</th><th>ClickDate</th><th>Device</th><th>Browser</th><th>OS</th><th>ConversionStatus</th><th>publisherId</th><th>advertiserCampaignId</th><th>Fraud</th></tr>\n",
       "<tr><td>1400000</td><td>196</td><td>291</td><td>2</td><td>28253</td><td>764</td><td>30</td><td>15</td><td>2</td><td>2052</td><td>500</td><td>2</td></tr>\n",
       "</table>\n"
      ],
      "text/plain": [
       "+-------+-------+-------+-----------+---------+------+-------+---+----------------+-----------+--------------------+-----+\n",
       "|     ID|Country|Carrier|TrafficType|ClickDate|Device|Browser| OS|ConversionStatus|publisherId|advertiserCampaignId|Fraud|\n",
       "+-------+-------+-------+-----------+---------+------+-------+---+----------------+-----------+--------------------+-----+\n",
       "|1400000|    196|    291|          2|    28253|   764|     30| 15|               2|       2052|                 500|    2|\n",
       "+-------+-------+-------+-----------+---------+------+-------+---+----------------+-----------+--------------------+-----+"
      ]
     },
     "execution_count": 10,
     "metadata": {},
     "output_type": "execute_result"
    }
   ],
   "source": [
    "# distinct values in each column\n",
    "train_data.agg(*(F.countDistinct(F.col(c)).alias(c) for c in train_data.columns))"
   ]
  },
  {
   "cell_type": "markdown",
   "id": "piano-terrace",
   "metadata": {},
   "source": [
    "---\n",
    "\n",
    " - There are 1400000 unique values in the `ID` column i.e unique for each row. So it won't add any value to our ML model, therefore we will not include it, when we will train our model.\n",
    " - There are 196 different countries. 764 different devices in the data.\n",
    " - There are so many unique values in `ClickDate` column, it is because the data is collected every few seconds.\n",
    " - There are 500 different campaigns and over 2000 different publishers.\n",
    "\n",
    "\n",
    "---"
   ]
  },
  {
   "cell_type": "markdown",
   "id": "dominican-sacramento",
   "metadata": {},
   "source": [
    "\n",
    "\n",
    "\n"
   ]
  },
  {
   "cell_type": "markdown",
   "id": "fixed-registration",
   "metadata": {},
   "source": [
    "---\n",
    "\n",
    "\n",
    "\n",
    "#### `Column - Country`\n",
    "\n",
    "Next, we will explore the Country column. We have already seen that the dataset has 196 unique countries. Let's check the number of datapoints with each country code using the groupBy function.\n",
    "\n",
    "---"
   ]
  },
  {
   "cell_type": "code",
   "execution_count": 11,
   "id": "harmful-reserve",
   "metadata": {},
   "outputs": [
    {
     "name": "stdout",
     "output_type": "stream",
     "text": [
      "+-------+-------------+\n",
      "|Country|country_count|\n",
      "+-------+-------------+\n",
      "|     DZ|        13232|\n",
      "|     MM|         4666|\n",
      "|     LT|           41|\n",
      "|     CI|          277|\n",
      "|     TC|            1|\n",
      "|     AZ|          230|\n",
      "|     FI|           21|\n",
      "|     SC|            1|\n",
      "|     UA|          219|\n",
      "|     RO|          200|\n",
      "+-------+-------------+\n",
      "only showing top 10 rows\n",
      "\n"
     ]
    }
   ],
   "source": [
    "# number of datapoints with each country\n",
    "top_countries = train_data.groupBy(\"Country\").agg(F.count(\"Country\").alias(\"country_count\"))\n",
    "top_countries.show(10)"
   ]
  },
  {
   "cell_type": "markdown",
   "id": "complex-floating",
   "metadata": {},
   "source": [
    "---\n",
    "\n",
    "View the Top 25 countries in the data using the orderBy.\n",
    "\n",
    "---"
   ]
  },
  {
   "cell_type": "code",
   "execution_count": 12,
   "id": "genetic-genesis",
   "metadata": {
    "scrolled": true
   },
   "outputs": [
    {
     "name": "stdout",
     "output_type": "stream",
     "text": [
      "+-------+-------------+\n",
      "|Country|country_count|\n",
      "+-------+-------------+\n",
      "|     IN|       391465|\n",
      "|     TH|       230027|\n",
      "|     ID|       119701|\n",
      "|     BD|       106342|\n",
      "|     MX|        58908|\n",
      "|     BR|        57664|\n",
      "|     RU|        41288|\n",
      "|     NG|        36244|\n",
      "|     MY|        29340|\n",
      "|     US|        26339|\n",
      "|     BO|        21602|\n",
      "|     PH|        19815|\n",
      "|     ZA|        15835|\n",
      "|     VE|        15405|\n",
      "|     GT|        13781|\n",
      "|     DZ|        13232|\n",
      "|     KR|        12906|\n",
      "|     CO|        12877|\n",
      "|     IQ|        12581|\n",
      "|     AE|        10512|\n",
      "|     ES|         8785|\n",
      "|     IR|         8588|\n",
      "|     UK|         7824|\n",
      "|     IT|         7289|\n",
      "|     PE|         6531|\n",
      "+-------+-------------+\n",
      "only showing top 25 rows\n",
      "\n"
     ]
    }
   ],
   "source": [
    "# Top 25 countries in the dataset\n",
    "top_countries.orderBy(\"country_count\",ascending=False).show(25)"
   ]
  },
  {
   "cell_type": "markdown",
   "id": "current-venture",
   "metadata": {},
   "source": [
    "---\n",
    "\n",
    "Now, we have 196 different countries in the dataset but most of the data points belong to the 20 countries. They have atleast 10,000 rows. So, in the dataset, we will keep only top 25 countries and map rest of them as `Others`.\n",
    "\n",
    "---\n",
    "\n",
    "To do the mapping, let's define a function.\n",
    "\n",
    "---"
   ]
  },
  {
   "cell_type": "code",
   "execution_count": 13,
   "id": "suspended-sampling",
   "metadata": {},
   "outputs": [
    {
     "name": "stdout",
     "output_type": "stream",
     "text": [
      "['IN', 'TH', 'ID', 'BD', 'MX', 'BR', 'RU', 'NG', 'MY', 'US', 'BO', 'PH', 'ZA', 'VE', 'GT', 'DZ', 'KR', 'CO', 'IQ', 'AE']\n"
     ]
    }
   ],
   "source": [
    "# create list of top 20 countries, you can change the parameter in the limit function to choose any other number of countries\n",
    "top_20_countries = (top_countries.orderBy(\"country_count\",ascending=False).limit(20).select(\"Country\").collect())\n",
    "top_20_countries = [ row.Country for row in top_20_countries]\n",
    "print(top_20_countries)\n",
    "\n",
    "# define function to map countries\n",
    "def map_countries(x):\n",
    "    if x not in top_20_countries:\n",
    "        return \"Others\"\n",
    "    else:\n",
    "        return x"
   ]
  },
  {
   "cell_type": "markdown",
   "id": "final-deputy",
   "metadata": {},
   "source": [
    "----\n",
    "\n",
    "Convert the function to the `UDF` function with return type as `String`.\n",
    "\n",
    "----"
   ]
  },
  {
   "cell_type": "code",
   "execution_count": 14,
   "id": "earned-equipment",
   "metadata": {},
   "outputs": [],
   "source": [
    "# convert to udf function\n",
    "map_countries_udf = F.udf(f= map_countries, returnType= tp.StringType())"
   ]
  },
  {
   "cell_type": "markdown",
   "id": "chemical-affiliate",
   "metadata": {},
   "source": [
    "---\n",
    "\n",
    "Use the function `withColumn` & `map_countries_udf` to map the countries in the original data.\n",
    "\n",
    "---"
   ]
  },
  {
   "cell_type": "code",
   "execution_count": 15,
   "id": "smaller-pleasure",
   "metadata": {},
   "outputs": [],
   "source": [
    "# map the countries\n",
    "train_data = train_data.withColumn(\"country_modified\", map_countries_udf(train_data[\"Country\"]))"
   ]
  },
  {
   "cell_type": "markdown",
   "id": "amended-enclosure",
   "metadata": {},
   "source": [
    "----\n",
    "\n",
    "Now, we have reduced the number of distinct countries from `196` to `21`. Let's check the number of data points with each of the country we have now.\n",
    "\n",
    "----"
   ]
  },
  {
   "cell_type": "code",
   "execution_count": 16,
   "id": "typical-shanghai",
   "metadata": {},
   "outputs": [
    {
     "name": "stdout",
     "output_type": "stream",
     "text": [
      "+----------------+-----------------------+\n",
      "|country_modified|count(country_modified)|\n",
      "+----------------+-----------------------+\n",
      "|              DZ|                  13232|\n",
      "|              MX|                  58908|\n",
      "|              RU|                  41288|\n",
      "|              IQ|                  12581|\n",
      "|              BD|                 106342|\n",
      "|              ID|                 119701|\n",
      "|              BR|                  57664|\n",
      "|              GT|                  13781|\n",
      "|              VE|                  15405|\n",
      "|              ZA|                  15835|\n",
      "|              KR|                  12906|\n",
      "|              US|                  26339|\n",
      "|              MY|                  29340|\n",
      "|              IN|                 391465|\n",
      "|              AE|                  10512|\n",
      "|              PH|                  19815|\n",
      "|          Others|                 154136|\n",
      "|              TH|                 230027|\n",
      "|              BO|                  21602|\n",
      "|              CO|                  12877|\n",
      "+----------------+-----------------------+\n",
      "only showing top 20 rows\n",
      "\n"
     ]
    }
   ],
   "source": [
    "# number of data points with each country category\n",
    "top_20_countries = train_data.groupBy(\"country_modified\").agg(F.count(\"country_modified\"))\n",
    "top_20_countries.show()"
   ]
  },
  {
   "cell_type": "code",
   "execution_count": 17,
   "id": "weird-defensive",
   "metadata": {},
   "outputs": [
    {
     "data": {
      "image/png": "[encoded data removed]",
      "text/plain": [
       "<Figure size 1080x360 with 1 Axes>"
      ]
     },
     "metadata": {
      "needs_background": "light"
     },
     "output_type": "display_data"
    }
   ],
   "source": [
    "# bar plot of top countries\n",
    "top_20_countries_df = top_20_countries.toPandas()\n",
    "plt.figure(figsize=(15,5))\n",
    "plt.xticks(rotation=45)\n",
    "plt.title(\"Country-Wise Ads Distribution\")\n",
    "plt.bar(top_20_countries_df[\"country_modified\"], top_20_countries_df[\"count(country_modified)\"]);"
   ]
  },
  {
   "cell_type": "markdown",
   "id": "central-economics",
   "metadata": {},
   "source": [
    "----\n",
    "\n",
    "\n",
    "#### `Make the transformation on the test data`\n",
    "\n",
    "----"
   ]
  },
  {
   "cell_type": "code",
   "execution_count": 18,
   "id": "broke-illness",
   "metadata": {},
   "outputs": [],
   "source": [
    "# validation data\n",
    "valid_data = valid_data.withColumn(\"country_modified\", map_countries_udf(valid_data[\"Country\"]))\n",
    "# test data\n",
    "test_data = test_data.withColumn(\"country_modified\", map_countries_udf(test_data[\"Country\"]))"
   ]
  },
  {
   "cell_type": "markdown",
   "id": "union-cross",
   "metadata": {},
   "source": [
    "---\n",
    "\n",
    "#### `Column - Traffic Type`\n",
    "\n",
    "Now, let's explore the column `TrafficType` and we have already identified that it has 2 different categories. Let's find out the number of data points in each of the category.\n",
    "\n",
    "---"
   ]
  },
  {
   "cell_type": "code",
   "execution_count": 19,
   "id": "different-receiver",
   "metadata": {},
   "outputs": [
    {
     "name": "stdout",
     "output_type": "stream",
     "text": [
      "+-----------+------+----------+\n",
      "|TrafficType| count|percentage|\n",
      "+-----------+------+----------+\n",
      "|       null|     0|       0.0|\n",
      "|          M|370845|   26.4889|\n",
      "|          A|828429|   59.1735|\n",
      "+-----------+------+----------+\n",
      "\n"
     ]
    }
   ],
   "source": [
    "# number of data points in each category and their percentage upto 4 decimal points\n",
    "traffic_type = train_data.groupBy(\"TrafficType\").agg(F.count(\"TrafficType\").alias(\"count\"),\n",
    "                                                     F.round((F.count(\"TrafficType\")/train_data.count())*100, 4).alias(\"percentage\"))\n",
    "traffic_type.show()"
   ]
  },
  {
   "cell_type": "markdown",
   "id": "activated-lyric",
   "metadata": {},
   "source": [
    "---\n",
    "\n",
    "We also saw that the column `TrafficType` has 200726 missing values, almost 16 percent So, We will fill all those values with the `\"U\"` a third category which means unidentified. We will do this in the pre-processing stage where we will fill null values of all the required columns.\n",
    "\n",
    "---"
   ]
  },
  {
   "cell_type": "markdown",
   "id": "insured-scale",
   "metadata": {},
   "source": [
    "---\n",
    "\n",
    "#### `Column - Fraud`\n",
    "\n",
    "Now, let's explore the column `Fraud` and we have already identified that it has 2 different categories. Let's find out the number of data points in each of the category.\n",
    "\n",
    "---"
   ]
  },
  {
   "cell_type": "code",
   "execution_count": 20,
   "id": "associate-invitation",
   "metadata": {},
   "outputs": [
    {
     "name": "stdout",
     "output_type": "stream",
     "text": [
      "+-----+-------+----------+\n",
      "|Fraud|  count|percentage|\n",
      "+-----+-------+----------+\n",
      "|  0.0|1399992| 99.999429|\n",
      "|  1.0|      8|   5.71E-4|\n",
      "+-----+-------+----------+\n",
      "\n"
     ]
    }
   ],
   "source": [
    "# number of data points in each category and their percentage upto 6 decimal points\n",
    "fraud_type = train_data.groupBy(\"Fraud\").agg(F.count(\"Fraud\").alias(\"count\"),\n",
    "                                             F.round((F.count(\"Fraud\")/train_data.count())*100, 6).alias(\"percentage\"))\n",
    "fraud_type.show()"
   ]
  },
  {
   "cell_type": "markdown",
   "id": "protective-satellite",
   "metadata": {},
   "source": [
    "---\n",
    "---\n",
    "\n",
    "#### `Column - Device`\n",
    "\n",
    "\n",
    "Next, we will explore the Device column. We have already seen that, we have 764 devices in the dataset and this feature also has very high cardinality. So, we will have to reduce the number of the categories. Let's have a look at some of the top device categories in the dataset.\n",
    "\n",
    "---"
   ]
  },
  {
   "cell_type": "code",
   "execution_count": 21,
   "id": "worthy-invalid",
   "metadata": {
    "scrolled": true
   },
   "outputs": [
    {
     "name": "stdout",
     "output_type": "stream",
     "text": [
      "+--------+-------------+\n",
      "|  Device|count(Device)|\n",
      "+--------+-------------+\n",
      "| Generic|       695723|\n",
      "| Samsung|       197666|\n",
      "|  Lenovo|        58867|\n",
      "|     ZTE|        41291|\n",
      "|Micromax|        40801|\n",
      "| Alcatel|        40469|\n",
      "|    Lava|        19338|\n",
      "|Symphony|        19286|\n",
      "|   Intex|        18600|\n",
      "|      LG|        18216|\n",
      "|    Sony|        14370|\n",
      "|  Huawei|        13618|\n",
      "|   Apple|        11467|\n",
      "|     HTC|        10900|\n",
      "|Motorola|        10492|\n",
      "|    Asus|         9090|\n",
      "|    true|         8232|\n",
      "| Oukitel|         7395|\n",
      "|   Tecno|         7300|\n",
      "|  Gionee|         6887|\n",
      "+--------+-------------+\n",
      "only showing top 20 rows\n",
      "\n"
     ]
    }
   ],
   "source": [
    "top_devices = train_data.groupBy(\"Device\").agg(F.count(\"Device\"))\n",
    "top_devices.orderBy(\"count(Device)\",ascending=False).show(20)"
   ]
  },
  {
   "cell_type": "markdown",
   "id": "electrical-mobile",
   "metadata": {},
   "source": [
    "----\n",
    "\n",
    "Now, we can see the most of the devices are `Generic` and others are some brand names. We got `Generic` whenever we are unable to find out the brand of the device. So, we will create only 2 categories for this feature `Generic` and `Not Generic` and map them as 0 and 1.\n",
    "\n",
    "Let's define a function to do the mapping.\n",
    "\n",
    "----"
   ]
  },
  {
   "cell_type": "code",
   "execution_count": 22,
   "id": "progressive-average",
   "metadata": {},
   "outputs": [],
   "source": [
    "# define the function to map the devices.\n",
    "def map_device(x):\n",
    "    if x not in [\"Generic\"]:\n",
    "        return 0\n",
    "    else:\n",
    "        return 1"
   ]
  },
  {
   "cell_type": "markdown",
   "id": "printable-picnic",
   "metadata": {},
   "source": [
    "----\n",
    "\n",
    "Convert to UDF function.\n",
    "\n",
    "---"
   ]
  },
  {
   "cell_type": "code",
   "execution_count": 23,
   "id": "united-madison",
   "metadata": {},
   "outputs": [],
   "source": [
    "# convert tot udf function\n",
    "map_device_udf = F.udf(f = map_device, returnType= tp.IntegerType())"
   ]
  },
  {
   "cell_type": "markdown",
   "id": "sorted-seller",
   "metadata": {},
   "source": [
    "---\n",
    "\n",
    "Use the function `withColumn` & `map_device_udf` to map the device in the original data.\n",
    "\n",
    "\n",
    "---"
   ]
  },
  {
   "cell_type": "code",
   "execution_count": 24,
   "id": "dedicated-demonstration",
   "metadata": {},
   "outputs": [],
   "source": [
    "# map device\n",
    "train_data = train_data.withColumn(\"device_modified\", map_device_udf(train_data[\"Device\"]))"
   ]
  },
  {
   "cell_type": "markdown",
   "id": "magnetic-candidate",
   "metadata": {},
   "source": [
    "----\n",
    "\n",
    "Check the number of devices in each category `Generic` and `Not Generic`.\n",
    "\n",
    "---"
   ]
  },
  {
   "cell_type": "code",
   "execution_count": 25,
   "id": "lasting-representation",
   "metadata": {},
   "outputs": [
    {
     "name": "stdout",
     "output_type": "stream",
     "text": [
      "+---------------+----------------------+\n",
      "|device_modified|count(device_modified)|\n",
      "+---------------+----------------------+\n",
      "|              1|                695723|\n",
      "|              0|                704277|\n",
      "+---------------+----------------------+\n",
      "\n"
     ]
    }
   ],
   "source": [
    "train_data.groupBy(\"device_modified\").agg(F.count(\"device_modified\")).show()"
   ]
  },
  {
   "cell_type": "markdown",
   "id": "tropical-tyler",
   "metadata": {},
   "source": [
    "---\n",
    "\n",
    "#### `Make the transformation on test data`\n",
    "\n",
    "---"
   ]
  },
  {
   "cell_type": "code",
   "execution_count": 26,
   "id": "radical-stocks",
   "metadata": {},
   "outputs": [],
   "source": [
    "# map the device\n",
    "\n",
    "# validation data\n",
    "valid_data = valid_data.withColumn(\"device_modified\", map_device_udf(valid_data[\"Device\"]))\n",
    "# test data\n",
    "test_data = test_data.withColumn(\"device_modified\", map_device_udf(test_data[\"Device\"]))"
   ]
  },
  {
   "cell_type": "markdown",
   "id": "grateful-checkout",
   "metadata": {},
   "source": [
    "---\n",
    "\n",
    "#### `Column - Browser`\n",
    "\n",
    "Now, let's explore the browser column We know that we have 30 different browsers in the dataset. Let's look at the numbers how many data points we have for each category of the Browser.\n",
    "\n",
    "\n",
    "---"
   ]
  },
  {
   "cell_type": "code",
   "execution_count": 27,
   "id": "gorgeous-thirty",
   "metadata": {},
   "outputs": [
    {
     "name": "stdout",
     "output_type": "stream",
     "text": [
      "+--------------------+--------------+\n",
      "|             Browser|count(Browser)|\n",
      "+--------------------+--------------+\n",
      "|      android_webkit|        661313|\n",
      "|              chrome|        584749|\n",
      "|        46.0.2490.76|         91529|\n",
      "|                  uc|         26155|\n",
      "|            chromium|         11424|\n",
      "|              iphone|         11070|\n",
      "|               opera|          4405|\n",
      "|              safari|           942|\n",
      "|     firefox_desktop|           911|\n",
      "|                msie|           690|\n",
      "|            iemobile|           409|\n",
      "|      firefox_mobile|           390|\n",
      "|       tizen_browser|           227|\n",
      "|             samsung|           223|\n",
      "|          blackberry|           180|\n",
      "|                 ovi|           130|\n",
      "|              dorado|            79|\n",
      "|              fennec|            37|\n",
      "|         wap_browser|            23|\n",
      "|            netfront|            12|\n",
      "|        novarra_nweb|            11|\n",
      "|             firefox|             6|\n",
      "|             phantom|             6|\n",
      "|dolfin/jasmine_we...|             5|\n",
      "|    maui_wap_browser|             2|\n",
      "|        teleca-obigo|             2|\n",
      "|         mqq_browser|             2|\n",
      "|        opera_tablet|             1|\n",
      "|openwave_mobile_b...|             1|\n",
      "|         edge_mobile|             1|\n",
      "+--------------------+--------------+\n",
      "only showing top 30 rows\n",
      "\n"
     ]
    }
   ],
   "source": [
    "# each browser count in the dataset \n",
    "top_browser = train_data.groupBy(\"Browser\").agg(F.count(\"Browser\"))\n",
    "top_browser.orderBy(\"count(Browser)\",ascending=False).show(30)"
   ]
  },
  {
   "cell_type": "markdown",
   "id": "individual-january",
   "metadata": {},
   "source": [
    "---\n",
    "\n",
    "Now, we want to reduce the number of categories so we will club some of the categories as following:\n",
    "\n",
    "> * **chrome** : `android_webkit`, `chrome`, `46.0.2490.76` (chrome version), `chromium`\n",
    "> * **safari** : `iphone`, `safari`\n",
    "> * **firefox** : `firefox_mobile`, `firefox`, `firefox_desktop` \n",
    "> * **others** : Rest of the Browsers\n",
    "\n",
    "\n",
    "\n",
    "Let's define the function to map the browsers\n",
    "\n",
    "---"
   ]
  },
  {
   "cell_type": "code",
   "execution_count": 28,
   "id": "meaning-there",
   "metadata": {},
   "outputs": [],
   "source": [
    "# function to map the broswer\n",
    "def map_browser(x):\n",
    "    if x in [\"android_webkit\", \"chrome\", \"46.0.2490.76\", \"chromium\"]:\n",
    "        return \"chrome\"\n",
    "    \n",
    "    elif x in [\"iphone\", \"safari\"]:\n",
    "        return \"safari\"\n",
    "    \n",
    "    elif x in [\"firefox_mobile\", \"firefox\", \"firefox_desktop\"]:\n",
    "        return \"firefox\"\n",
    "    else:\n",
    "        return \"others\""
   ]
  },
  {
   "cell_type": "markdown",
   "id": "bibliographic-scoop",
   "metadata": {},
   "source": [
    "---\n",
    "\n",
    "Convert to udf function\n",
    "\n",
    "---"
   ]
  },
  {
   "cell_type": "code",
   "execution_count": 29,
   "id": "wound-processor",
   "metadata": {},
   "outputs": [],
   "source": [
    "# convert to udf function\n",
    "map_browser_udf = F.udf(f = map_browser, returnType= tp.StringType())"
   ]
  },
  {
   "cell_type": "markdown",
   "id": "overall-leone",
   "metadata": {},
   "source": [
    "---\n",
    "\n",
    "Use the function `withColumn` & `map_browser_udf` to map the browser in the original data.\n",
    "\n",
    "---"
   ]
  },
  {
   "cell_type": "code",
   "execution_count": 30,
   "id": "experienced-touch",
   "metadata": {},
   "outputs": [],
   "source": [
    "# update the column\n",
    "train_data = train_data.withColumn(\"browser_modified\", map_browser_udf(train_data[\"Browser\"]))"
   ]
  },
  {
   "cell_type": "markdown",
   "id": "balanced-yukon",
   "metadata": {},
   "source": [
    "---\n",
    "\n",
    "Let's have a look at the number of data points with each category.\n",
    "\n",
    "---"
   ]
  },
  {
   "cell_type": "code",
   "execution_count": 31,
   "id": "declared-woman",
   "metadata": {
    "scrolled": true
   },
   "outputs": [
    {
     "name": "stdout",
     "output_type": "stream",
     "text": [
      "+----------------+-------+\n",
      "|browser_modified|  count|\n",
      "+----------------+-------+\n",
      "|         firefox|   1307|\n",
      "|          chrome|1349015|\n",
      "|          others|  37666|\n",
      "|          safari|  12012|\n",
      "+----------------+-------+\n",
      "\n"
     ]
    }
   ],
   "source": [
    "# data distribution of browser column\n",
    "browser_distribution = train_data.groupBy(\"browser_modified\").agg(F.count(\"browser_modified\").alias(\"count\")).show()\n",
    "browser_distribution"
   ]
  },
  {
   "cell_type": "markdown",
   "id": "western-december",
   "metadata": {},
   "source": [
    "---\n",
    "\n",
    "#### `Make the transformation on the test data.`\n",
    "\n",
    "\n",
    "----"
   ]
  },
  {
   "cell_type": "code",
   "execution_count": 32,
   "id": "bibliographic-pilot",
   "metadata": {},
   "outputs": [],
   "source": [
    "# reduce browser categories in the test and validation data \n",
    "# validation data\n",
    "valid_data = valid_data.withColumn(\"browser_modified\", map_browser_udf(valid_data[\"Browser\"]))\n",
    "# test data\n",
    "test_data = test_data.withColumn(\"browser_modified\", map_browser_udf(test_data[\"Browser\"]))"
   ]
  },
  {
   "cell_type": "markdown",
   "id": "strong-stockholm",
   "metadata": {},
   "source": [
    "---\n",
    "\n",
    "#### `Column - OS`\n",
    "\n",
    "---\n",
    "\n",
    "Now, let's explore the OS column. We have 15 different OS in the dataset. Let's have a look at the number of data points and clicks for each category in the OS.\n",
    "\n",
    "\n",
    "---"
   ]
  },
  {
   "cell_type": "code",
   "execution_count": 33,
   "id": "choice-teddy",
   "metadata": {},
   "outputs": [
    {
     "name": "stdout",
     "output_type": "stream",
     "text": [
      "+----------------+---------+\n",
      "|              OS|count(OS)|\n",
      "+----------------+---------+\n",
      "|         Android|  1377749|\n",
      "|             iOS|    11398|\n",
      "|         Desktop|     4589|\n",
      "|Windows Phone OS|      931|\n",
      "|           Tizen|      227|\n",
      "|          RIM OS|      211|\n",
      "|        Mac OS X|       61|\n",
      "|         Xbox OS|       28|\n",
      "|      Symbian OS|       14|\n",
      "|      Firefox OS|        6|\n",
      "|  PlayStation OS|        3|\n",
      "|  MTK/Nucleus OS|        2|\n",
      "|   RIM Tablet OS|        2|\n",
      "|           MeeGo|        2|\n",
      "|      Windows RT|        1|\n",
      "|            null|        0|\n",
      "+----------------+---------+\n",
      "\n"
     ]
    }
   ],
   "source": [
    "# groupby to find number of data points in each category of the OS\n",
    "top_os = train_data.groupBy(\"OS\").agg(F.count(\"OS\"))\n",
    "top_os.orderBy(\"count(OS)\",ascending=False).show(23)"
   ]
  },
  {
   "cell_type": "markdown",
   "id": "alleged-mongolia",
   "metadata": {},
   "source": [
    "----\n",
    "\n",
    "\n",
    "- We can observe here, that a majority of devices are from `Android`, so we can reduce the categories to either 2, `Android` or `Not Android`.\n",
    "- But, let's keep some more. We will club `iOS` and `Mac OS X`. `Android` as a separate category and rest of the categories as `Others`.\n",
    "\n",
    "\n",
    "Let's define a function to map the OS.\n",
    "\n",
    "----"
   ]
  },
  {
   "cell_type": "code",
   "execution_count": 34,
   "id": "unlike-riverside",
   "metadata": {},
   "outputs": [],
   "source": [
    "# define a function to map the OS.\n",
    "def map_os(x):\n",
    "    if x in [\"Android\"]:\n",
    "        return \"Android\"\n",
    "    \n",
    "    elif x in [\"iOS\", \"Mac OS X\"]:\n",
    "        return \"ios\"\n",
    "    else:\n",
    "        return \"others\""
   ]
  },
  {
   "cell_type": "markdown",
   "id": "eight-claim",
   "metadata": {},
   "source": [
    "---\n",
    "\n",
    "Convert to UDF Function.\n",
    "\n",
    "---"
   ]
  },
  {
   "cell_type": "code",
   "execution_count": 35,
   "id": "fossil-exclusion",
   "metadata": {},
   "outputs": [],
   "source": [
    "# convert the map_os\n",
    "map_os_udf = F.udf(f= map_os, returnType= tp.StringType())"
   ]
  },
  {
   "cell_type": "code",
   "execution_count": 36,
   "id": "broad-baghdad",
   "metadata": {},
   "outputs": [],
   "source": [
    "# modify the data using the withColumn and map_os_udf function\n",
    "train_data = train_data.withColumn(\"modified_os\", map_os_udf(train_data[\"OS\"]))"
   ]
  },
  {
   "cell_type": "markdown",
   "id": "outside-thousand",
   "metadata": {},
   "source": [
    "---\n",
    "\n",
    "Now, let's check the data points in updated categories of the OS column.\n",
    "\n",
    "----"
   ]
  },
  {
   "cell_type": "code",
   "execution_count": 37,
   "id": "molecular-jungle",
   "metadata": {
    "scrolled": true
   },
   "outputs": [
    {
     "name": "stdout",
     "output_type": "stream",
     "text": [
      "+-----------+------------------+\n",
      "|modified_os|count(modified_os)|\n",
      "+-----------+------------------+\n",
      "|     others|             10792|\n",
      "|    Android|           1377749|\n",
      "|        ios|             11459|\n",
      "+-----------+------------------+\n",
      "\n"
     ]
    }
   ],
   "source": [
    "train_data.groupBy(\"modified_os\").agg(F.count(\"modified_os\")).show()"
   ]
  },
  {
   "cell_type": "markdown",
   "id": "selected-johns",
   "metadata": {},
   "source": [
    "---\n",
    "\n",
    "#### `Make the transformation on the test data`\n",
    "\n",
    "---"
   ]
  },
  {
   "cell_type": "code",
   "execution_count": 38,
   "id": "worse-composition",
   "metadata": {},
   "outputs": [],
   "source": [
    "# validation dta\n",
    "valid_data = valid_data.withColumn(\"modified_os\", map_os_udf(valid_data[\"OS\"]))\n",
    "# test data\n",
    "test_data = test_data.withColumn(\"modified_os\", map_os_udf(test_data[\"OS\"]))"
   ]
  },
  {
   "cell_type": "markdown",
   "id": "fatty-audience",
   "metadata": {},
   "source": [
    "----\n",
    "\n",
    "#### `Column - Publisher ID`\n",
    "\n",
    "---\n",
    "\n",
    "Next, we will explore the publisherId.  Let's find out first how many different publisher we have in the dataset.\n",
    "\n",
    "\n",
    "----"
   ]
  },
  {
   "cell_type": "code",
   "execution_count": 39,
   "id": "impressive-wrestling",
   "metadata": {
    "scrolled": true
   },
   "outputs": [
    {
     "name": "stdout",
     "output_type": "stream",
     "text": [
      "+---------------------------+\n",
      "|count(DISTINCT publisherId)|\n",
      "+---------------------------+\n",
      "|                       2052|\n",
      "+---------------------------+\n",
      "\n"
     ]
    }
   ],
   "source": [
    "# distinct values in the publisherId\n",
    "train_data.agg(F.countDistinct(\"publisherId\")).show()"
   ]
  },
  {
   "cell_type": "markdown",
   "id": "directed-vienna",
   "metadata": {},
   "source": [
    "---\n",
    "\n",
    "\n",
    "Now, you must have noticed that `publisherId` column has the numeric data type. But these are different categories of the column. We cannot use this feature as a numeric one.\n",
    "\n",
    "But we will use this column to create another feature: `frequency per publisher id`. For example, we have `publisher id: 50`\n",
    "\n",
    "And id `50` is present in `45000` data points. \n",
    "\n",
    "So the frequency per publisher id for `id:50` is `45000`\n",
    "\n",
    "---\n",
    "\n",
    "To find out this we will first create a dataframe `total_p_id` which will have the total data points for each publisher id.\n",
    "\n",
    "---"
   ]
  },
  {
   "cell_type": "code",
   "execution_count": 40,
   "id": "competent-class",
   "metadata": {},
   "outputs": [
    {
     "name": "stdout",
     "output_type": "stream",
     "text": [
      "+-----------+----------+\n",
      "|publisherId|total_p_id|\n",
      "+-----------+----------+\n",
      "|      37311|         8|\n",
      "|       6240|        62|\n",
      "|      42370|       105|\n",
      "|      35640|         9|\n",
      "|      37774|         1|\n",
      "|      39457|         5|\n",
      "|      39458|         9|\n",
      "|      38223|         6|\n",
      "|      31713|         1|\n",
      "|      18314|         1|\n",
      "|      39590|         1|\n",
      "|      27884|         1|\n",
      "|      39103|         1|\n",
      "|      14157|         1|\n",
      "|      36067|         1|\n",
      "|        125|        63|\n",
      "|      28524|        13|\n",
      "|       9569|         6|\n",
      "|      27339|        30|\n",
      "|      17910|         2|\n",
      "+-----------+----------+\n",
      "only showing top 20 rows\n",
      "\n"
     ]
    }
   ],
   "source": [
    "## groupby to calculate total data points for each publisher id.\n",
    "total_p_id = train_data.groupBy(\"publisherId\").agg(F.count(\"ConversionStatus\").alias(\"total_p_id\"))\n",
    "total_p_id.show()"
   ]
  },
  {
   "cell_type": "markdown",
   "id": "supported-german",
   "metadata": {},
   "source": [
    "---\n",
    "\n",
    "Next, we will join this feature with the original train data.\n",
    "\n",
    "---"
   ]
  },
  {
   "cell_type": "code",
   "execution_count": 41,
   "id": "equivalent-sound",
   "metadata": {},
   "outputs": [],
   "source": [
    "# now, we will join this data with the original train data\n",
    "train_data = train_data.join(total_p_id, on=\"publisherId\")"
   ]
  },
  {
   "cell_type": "code",
   "execution_count": 42,
   "id": "willing-essay",
   "metadata": {},
   "outputs": [
    {
     "name": "stdout",
     "output_type": "stream",
     "text": [
      "+-----------+----------+\n",
      "|publisherId|total_p_id|\n",
      "+-----------+----------+\n",
      "|      14157|         1|\n",
      "|      18314|         1|\n",
      "|      27884|         1|\n",
      "|      31713|         1|\n",
      "|      35640|         9|\n",
      "|      35640|         9|\n",
      "|      35640|         9|\n",
      "|      35640|         9|\n",
      "|      35640|         9|\n",
      "|      35640|         9|\n",
      "|      35640|         9|\n",
      "|      35640|         9|\n",
      "|      35640|         9|\n",
      "|      36067|         1|\n",
      "|      37311|         8|\n",
      "|      37311|         8|\n",
      "|      37311|         8|\n",
      "|      37311|         8|\n",
      "|      37311|         8|\n",
      "|      37311|         8|\n",
      "+-----------+----------+\n",
      "only showing top 20 rows\n",
      "\n"
     ]
    }
   ],
   "source": [
    "train_data.select(\"publisherId\", \"total_p_id\").show()"
   ]
  },
  {
   "cell_type": "markdown",
   "id": "shaped-insert",
   "metadata": {},
   "source": [
    "----\n",
    "\n",
    "#### `Make the transformation on test data`\n",
    "\n",
    "----"
   ]
  },
  {
   "cell_type": "code",
   "execution_count": 43,
   "id": "breathing-audience",
   "metadata": {},
   "outputs": [],
   "source": [
    "# now, we will join this data with the original test data\n",
    "\n",
    "# validation\n",
    "valid_data = valid_data.join(total_p_id, on=\"publisherId\")\n",
    "# test\n",
    "test_data = test_data.join(total_p_id, on=\"publisherId\")"
   ]
  },
  {
   "cell_type": "markdown",
   "id": "serious-narrative",
   "metadata": {},
   "source": [
    "---\n",
    "\n",
    "#### `Column - Advertiser Campaign ID`\n",
    "\n",
    "\n",
    "---\n",
    "\n",
    "Now, we will explore the `Campaign ID` and find out the number of distinct values in it.\n",
    "\n",
    "---"
   ]
  },
  {
   "cell_type": "code",
   "execution_count": 44,
   "id": "continental-lyric",
   "metadata": {},
   "outputs": [
    {
     "name": "stdout",
     "output_type": "stream",
     "text": [
      "+------------------------------------+\n",
      "|count(DISTINCT advertiserCampaignId)|\n",
      "+------------------------------------+\n",
      "|                                 500|\n",
      "+------------------------------------+\n",
      "\n"
     ]
    }
   ],
   "source": [
    "train_data.agg(F.countDistinct(\"advertiserCampaignId\")).show()"
   ]
  },
  {
   "cell_type": "markdown",
   "id": "modular-forum",
   "metadata": {},
   "source": [
    "---\n",
    "\n",
    "This feature is similar to the `publisherId` which looks numeric but actually categorical. So, we will do the same procedure as we did on the `publisherId`. And here we will calculate the `frequency per campaign id` \n",
    "\n",
    "\n",
    "First we will calculate the total data points for each campaign id.\n",
    "\n",
    "---"
   ]
  },
  {
   "cell_type": "code",
   "execution_count": 45,
   "id": "cardiac-steel",
   "metadata": {},
   "outputs": [
    {
     "name": "stdout",
     "output_type": "stream",
     "text": [
      "+--------------------+----------+\n",
      "|advertiserCampaignId|total_c_id|\n",
      "+--------------------+----------+\n",
      "|             12671.0|       441|\n",
      "|             14269.0|       344|\n",
      "|             13607.0|        21|\n",
      "|              4385.0|     12034|\n",
      "|             13811.0|        58|\n",
      "|              7791.0|      1782|\n",
      "|             10130.0|        20|\n",
      "|               735.0|     30971|\n",
      "|             16800.0|        15|\n",
      "|             14208.0|        59|\n",
      "|             15823.0|        36|\n",
      "|             12061.0|      6850|\n",
      "|                 0.0|      2574|\n",
      "|             14353.0|        15|\n",
      "|             12555.0|        97|\n",
      "|             15428.0|         3|\n",
      "|             11830.0|      7719|\n",
      "|             16060.0|      5624|\n",
      "|             12690.0|        54|\n",
      "|             16653.0|        25|\n",
      "+--------------------+----------+\n",
      "only showing top 20 rows\n",
      "\n"
     ]
    }
   ],
   "source": [
    "## groupby to calculate total data points for each campaign id.\n",
    "total_c_id = train_data.groupBy(\"advertiserCampaignId\").agg(F.count(\"ConversionStatus\").alias(\"total_c_id\"))\n",
    "total_c_id.show()"
   ]
  },
  {
   "cell_type": "code",
   "execution_count": 46,
   "id": "promising-employer",
   "metadata": {},
   "outputs": [],
   "source": [
    "train_data = train_data.join(total_c_id, on=\"advertiserCampaignId\")"
   ]
  },
  {
   "cell_type": "code",
   "execution_count": 47,
   "id": "celtic-photograph",
   "metadata": {
    "scrolled": true
   },
   "outputs": [
    {
     "name": "stdout",
     "output_type": "stream",
     "text": [
      "+--------------------+----------+\n",
      "|advertiserCampaignId|total_c_id|\n",
      "+--------------------+----------+\n",
      "|             12671.0|       441|\n",
      "|             12671.0|       441|\n",
      "|             12671.0|       441|\n",
      "|             12671.0|       441|\n",
      "|             12671.0|       441|\n",
      "|             12671.0|       441|\n",
      "|             12671.0|       441|\n",
      "|             12671.0|       441|\n",
      "|             12671.0|       441|\n",
      "|             12671.0|       441|\n",
      "|             12671.0|       441|\n",
      "|             12671.0|       441|\n",
      "|             12671.0|       441|\n",
      "|             12671.0|       441|\n",
      "|             12671.0|       441|\n",
      "|             12671.0|       441|\n",
      "|             12671.0|       441|\n",
      "|             12671.0|       441|\n",
      "|             12671.0|       441|\n",
      "|             12671.0|       441|\n",
      "+--------------------+----------+\n",
      "only showing top 20 rows\n",
      "\n"
     ]
    }
   ],
   "source": [
    "train_data.select(\"advertiserCampaignId\", \"total_c_id\").show()"
   ]
  },
  {
   "cell_type": "markdown",
   "id": "hourly-messenger",
   "metadata": {},
   "source": [
    "#### `Make the transformation on test data`\n",
    "\n",
    "----"
   ]
  },
  {
   "cell_type": "code",
   "execution_count": 48,
   "id": "voluntary-linux",
   "metadata": {},
   "outputs": [],
   "source": [
    "# validation data\n",
    "valid_data = valid_data.join(total_c_id, on=\"advertiserCampaignId\")\n",
    "# test data\n",
    "test_data = test_data.join(total_c_id, on=\"advertiserCampaignId\")"
   ]
  },
  {
   "cell_type": "markdown",
   "id": "informative-cambridge",
   "metadata": {},
   "source": [
    "---\n",
    "\n",
    "## `BIVARIATE ANALYSIS`\n",
    "\n",
    "---\n",
    "\n",
    "#### `Number of Clicks for each category of Country`\n",
    "\n",
    "---"
   ]
  },
  {
   "cell_type": "code",
   "execution_count": 49,
   "id": "raised-reducing",
   "metadata": {},
   "outputs": [
    {
     "name": "stdout",
     "output_type": "stream",
     "text": [
      "+----------------+-------------+----------------+\n",
      "|country_modified|country_count|number_of_clicks|\n",
      "+----------------+-------------+----------------+\n",
      "|              DZ|        13232|              12|\n",
      "|              MX|        58908|              15|\n",
      "|              IQ|        12581|               7|\n",
      "|              RU|        41288|             103|\n",
      "|              BD|       106338|             198|\n",
      "|              ID|       119701|             113|\n",
      "|              BR|        57664|              31|\n",
      "|              GT|        13781|              10|\n",
      "|              VE|        15405|               1|\n",
      "|              ZA|        15835|              18|\n",
      "|              KR|        12906|               0|\n",
      "|              US|        26339|               6|\n",
      "|              MY|        29340|              18|\n",
      "|              IN|       391465|              82|\n",
      "|              AE|        10512|               1|\n",
      "|              PH|        19815|              15|\n",
      "|          Others|       154135|              83|\n",
      "|              TH|       230027|              97|\n",
      "|              BO|        21602|               4|\n",
      "|              CO|        12877|               7|\n",
      "+----------------+-------------+----------------+\n",
      "only showing top 20 rows\n",
      "\n"
     ]
    }
   ],
   "source": [
    "# number of datapoints with each country\n",
    "top_countries_with_clicks = train_data.groupBy(\"country_modified\").agg(F.count(\"country_modified\").alias(\"country_count\"),\n",
    "                                                                       F.sum(\"ConversionStatus\").alias(\"number_of_clicks\"))\n",
    "top_countries_with_clicks.show()"
   ]
  },
  {
   "cell_type": "code",
   "execution_count": 50,
   "id": "lesser-breed",
   "metadata": {},
   "outputs": [],
   "source": [
    "# create new column of percentage of clicks\n",
    "top_countries_with_clicks = top_countries_with_clicks.withColumn(\"percentage_of_clicks\", (top_countries_with_clicks[\"number_of_clicks\"]/top_countries_with_clicks[\"country_count\"])*100)"
   ]
  },
  {
   "cell_type": "code",
   "execution_count": 51,
   "id": "greater-arizona",
   "metadata": {},
   "outputs": [
    {
     "data": {
      "text/html": [
       "<div>\n",
       "<style scoped>\n",
       "    .dataframe tbody tr th:only-of-type {\n",
       "        vertical-align: middle;\n",
       "    }\n",
       "\n",
       "    .dataframe tbody tr th {\n",
       "        vertical-align: top;\n",
       "    }\n",
       "\n",
       "    .dataframe thead th {\n",
       "        text-align: right;\n",
       "    }\n",
       "</style>\n",
       "<table border=\"1\" class=\"dataframe\">\n",
       "  <thead>\n",
       "    <tr style=\"text-align: right;\">\n",
       "      <th></th>\n",
       "      <th>country_modified</th>\n",
       "      <th>country_count</th>\n",
       "      <th>number_of_clicks</th>\n",
       "      <th>percentage_of_clicks</th>\n",
       "    </tr>\n",
       "  </thead>\n",
       "  <tbody>\n",
       "    <tr>\n",
       "      <th>0</th>\n",
       "      <td>RU</td>\n",
       "      <td>41288</td>\n",
       "      <td>103</td>\n",
       "      <td>0.249467</td>\n",
       "    </tr>\n",
       "    <tr>\n",
       "      <th>1</th>\n",
       "      <td>BD</td>\n",
       "      <td>106338</td>\n",
       "      <td>198</td>\n",
       "      <td>0.186199</td>\n",
       "    </tr>\n",
       "    <tr>\n",
       "      <th>2</th>\n",
       "      <td>NG</td>\n",
       "      <td>36244</td>\n",
       "      <td>53</td>\n",
       "      <td>0.146231</td>\n",
       "    </tr>\n",
       "    <tr>\n",
       "      <th>3</th>\n",
       "      <td>ZA</td>\n",
       "      <td>15835</td>\n",
       "      <td>18</td>\n",
       "      <td>0.113672</td>\n",
       "    </tr>\n",
       "    <tr>\n",
       "      <th>4</th>\n",
       "      <td>ID</td>\n",
       "      <td>119701</td>\n",
       "      <td>113</td>\n",
       "      <td>0.094402</td>\n",
       "    </tr>\n",
       "    <tr>\n",
       "      <th>5</th>\n",
       "      <td>DZ</td>\n",
       "      <td>13232</td>\n",
       "      <td>12</td>\n",
       "      <td>0.090689</td>\n",
       "    </tr>\n",
       "    <tr>\n",
       "      <th>6</th>\n",
       "      <td>PH</td>\n",
       "      <td>19815</td>\n",
       "      <td>15</td>\n",
       "      <td>0.075700</td>\n",
       "    </tr>\n",
       "    <tr>\n",
       "      <th>7</th>\n",
       "      <td>GT</td>\n",
       "      <td>13781</td>\n",
       "      <td>10</td>\n",
       "      <td>0.072564</td>\n",
       "    </tr>\n",
       "    <tr>\n",
       "      <th>8</th>\n",
       "      <td>MY</td>\n",
       "      <td>29340</td>\n",
       "      <td>18</td>\n",
       "      <td>0.061350</td>\n",
       "    </tr>\n",
       "    <tr>\n",
       "      <th>9</th>\n",
       "      <td>IQ</td>\n",
       "      <td>12581</td>\n",
       "      <td>7</td>\n",
       "      <td>0.055639</td>\n",
       "    </tr>\n",
       "    <tr>\n",
       "      <th>10</th>\n",
       "      <td>CO</td>\n",
       "      <td>12877</td>\n",
       "      <td>7</td>\n",
       "      <td>0.054360</td>\n",
       "    </tr>\n",
       "    <tr>\n",
       "      <th>11</th>\n",
       "      <td>Others</td>\n",
       "      <td>154135</td>\n",
       "      <td>83</td>\n",
       "      <td>0.053849</td>\n",
       "    </tr>\n",
       "    <tr>\n",
       "      <th>12</th>\n",
       "      <td>BR</td>\n",
       "      <td>57664</td>\n",
       "      <td>31</td>\n",
       "      <td>0.053760</td>\n",
       "    </tr>\n",
       "    <tr>\n",
       "      <th>13</th>\n",
       "      <td>TH</td>\n",
       "      <td>230027</td>\n",
       "      <td>97</td>\n",
       "      <td>0.042169</td>\n",
       "    </tr>\n",
       "    <tr>\n",
       "      <th>14</th>\n",
       "      <td>MX</td>\n",
       "      <td>58908</td>\n",
       "      <td>15</td>\n",
       "      <td>0.025463</td>\n",
       "    </tr>\n",
       "    <tr>\n",
       "      <th>15</th>\n",
       "      <td>US</td>\n",
       "      <td>26339</td>\n",
       "      <td>6</td>\n",
       "      <td>0.022780</td>\n",
       "    </tr>\n",
       "    <tr>\n",
       "      <th>16</th>\n",
       "      <td>IN</td>\n",
       "      <td>391465</td>\n",
       "      <td>82</td>\n",
       "      <td>0.020947</td>\n",
       "    </tr>\n",
       "    <tr>\n",
       "      <th>17</th>\n",
       "      <td>BO</td>\n",
       "      <td>21602</td>\n",
       "      <td>4</td>\n",
       "      <td>0.018517</td>\n",
       "    </tr>\n",
       "    <tr>\n",
       "      <th>18</th>\n",
       "      <td>AE</td>\n",
       "      <td>10512</td>\n",
       "      <td>1</td>\n",
       "      <td>0.009513</td>\n",
       "    </tr>\n",
       "    <tr>\n",
       "      <th>19</th>\n",
       "      <td>VE</td>\n",
       "      <td>15405</td>\n",
       "      <td>1</td>\n",
       "      <td>0.006491</td>\n",
       "    </tr>\n",
       "    <tr>\n",
       "      <th>20</th>\n",
       "      <td>KR</td>\n",
       "      <td>12906</td>\n",
       "      <td>0</td>\n",
       "      <td>0.000000</td>\n",
       "    </tr>\n",
       "  </tbody>\n",
       "</table>\n",
       "</div>"
      ],
      "text/plain": [
       "   country_modified  country_count  number_of_clicks  percentage_of_clicks\n",
       "0                RU          41288               103              0.249467\n",
       "1                BD         106338               198              0.186199\n",
       "2                NG          36244                53              0.146231\n",
       "3                ZA          15835                18              0.113672\n",
       "4                ID         119701               113              0.094402\n",
       "5                DZ          13232                12              0.090689\n",
       "6                PH          19815                15              0.075700\n",
       "7                GT          13781                10              0.072564\n",
       "8                MY          29340                18              0.061350\n",
       "9                IQ          12581                 7              0.055639\n",
       "10               CO          12877                 7              0.054360\n",
       "11           Others         154135                83              0.053849\n",
       "12               BR          57664                31              0.053760\n",
       "13               TH         230027                97              0.042169\n",
       "14               MX          58908                15              0.025463\n",
       "15               US          26339                 6              0.022780\n",
       "16               IN         391465                82              0.020947\n",
       "17               BO          21602                 4              0.018517\n",
       "18               AE          10512                 1              0.009513\n",
       "19               VE          15405                 1              0.006491\n",
       "20               KR          12906                 0              0.000000"
      ]
     },
     "execution_count": 51,
     "metadata": {},
     "output_type": "execute_result"
    }
   ],
   "source": [
    "# Sort the dataframe by percentage of clicks in descending order\n",
    "top_countries_with_clicks= top_countries_with_clicks.orderBy(\"percentage_of_clicks\", ascending = False).toPandas()\n",
    "top_countries_with_clicks"
   ]
  },
  {
   "cell_type": "code",
   "execution_count": 52,
   "id": "affected-camcorder",
   "metadata": {},
   "outputs": [
    {
     "data": {
      "image/png": "[encoded data removed]",
      "text/plain": [
       "<Figure size 1080x360 with 1 Axes>"
      ]
     },
     "metadata": {
      "needs_background": "light"
     },
     "output_type": "display_data"
    }
   ],
   "source": [
    "# bar plot of top countries\n",
    "plt.figure(figsize=(15,5))\n",
    "plt.xticks(rotation=45)\n",
    "plt.title(\"click percentage of top 20 countries\")\n",
    "plt.bar(top_countries_with_clicks[\"country_modified\"], top_countries_with_clicks[\"percentage_of_clicks\"]);"
   ]
  },
  {
   "cell_type": "markdown",
   "id": "encouraging-carpet",
   "metadata": {},
   "source": [
    "---\n",
    "\n",
    "Here, we can see that top 4 countries have atleast 0.1 percent of click rate. Sp, you can also further reduce the categories upto 4 and map rest of them as Others. For now, we are going ahead with the 21 categories in the country column.\n",
    "\n",
    "---"
   ]
  },
  {
   "cell_type": "markdown",
   "id": "declared-anthropology",
   "metadata": {},
   "source": [
    "#### `Number of Clicks for each category of Browser`\n",
    "\n",
    "---"
   ]
  },
  {
   "cell_type": "code",
   "execution_count": 53,
   "id": "fifteen-lyric",
   "metadata": {},
   "outputs": [
    {
     "name": "stdout",
     "output_type": "stream",
     "text": [
      "+----------------+-------------+----------------+\n",
      "|browser_modified|browser_count|number_of_clicks|\n",
      "+----------------+-------------+----------------+\n",
      "|         firefox|         1307|               0|\n",
      "|          chrome|      1349014|             859|\n",
      "|          others|        37662|              12|\n",
      "|          safari|        12012|               3|\n",
      "+----------------+-------------+----------------+\n",
      "\n"
     ]
    }
   ],
   "source": [
    "# number of datapoints with each country\n",
    "top_browsers_with_clicks = train_data.groupBy(\"browser_modified\").agg(F.count(\"browser_modified\").alias(\"browser_count\"),\n",
    "                                                                       F.sum(\"ConversionStatus\").alias(\"number_of_clicks\"))\n",
    "top_browsers_with_clicks.show()"
   ]
  },
  {
   "cell_type": "markdown",
   "id": "virgin-crack",
   "metadata": {},
   "source": [
    "---\n",
    "\n",
    "It is very clear from the above data, that almost 99.9 percent of the clicks are coming from the `chrome` browser So, you also reduce the categories to 2 only, `chrome` and `not chrome`.\n",
    "\n",
    "---"
   ]
  },
  {
   "cell_type": "markdown",
   "id": "electrical-vinyl",
   "metadata": {},
   "source": [
    "#### `Number of Clicks for each category of Device`\n",
    "\n",
    "---"
   ]
  },
  {
   "cell_type": "code",
   "execution_count": 54,
   "id": "opposite-subsection",
   "metadata": {},
   "outputs": [
    {
     "name": "stdout",
     "output_type": "stream",
     "text": [
      "+---------------+------------+----------------+\n",
      "|device_modified|device_count|number_of_clicks|\n",
      "+---------------+------------+----------------+\n",
      "|              1|      695722|             419|\n",
      "|              0|      704273|             455|\n",
      "+---------------+------------+----------------+\n",
      "\n"
     ]
    }
   ],
   "source": [
    "# number of datapoints with each country\n",
    "top_devices_with_clicks = train_data.groupBy(\"device_modified\").agg(F.count(\"device_modified\").alias(\"device_count\"),\n",
    "                                                                    F.sum(\"ConversionStatus\").alias(\"number_of_clicks\"))\n",
    "top_devices_with_clicks.show()"
   ]
  },
  {
   "cell_type": "markdown",
   "id": "available-provision",
   "metadata": {},
   "source": [
    "---\n",
    "\n",
    "It is almost the same number of clicks in both the categories.\n",
    "\n",
    "---"
   ]
  },
  {
   "cell_type": "markdown",
   "id": "hydraulic-alexander",
   "metadata": {},
   "source": [
    "### `Number of Clicks for each catefory of OS`\n",
    "\n",
    "---"
   ]
  },
  {
   "cell_type": "code",
   "execution_count": 55,
   "id": "eight-parker",
   "metadata": {},
   "outputs": [
    {
     "name": "stdout",
     "output_type": "stream",
     "text": [
      "+-----------+--------+----------------+\n",
      "|modified_os|os_count|number_of_clicks|\n",
      "+-----------+--------+----------------+\n",
      "|     others|   10792|               4|\n",
      "|    Android| 1377744|             868|\n",
      "|        ios|   11459|               2|\n",
      "+-----------+--------+----------------+\n",
      "\n"
     ]
    }
   ],
   "source": [
    "# number of datapoints and clicks for each os\n",
    "top_os_with_clicks = train_data.groupBy(\"modified_os\").agg(F.count(\"modified_os\").alias(\"os_count\"),\n",
    "                                                           F.sum(\"ConversionStatus\").alias(\"number_of_clicks\"))\n",
    "top_os_with_clicks.show()"
   ]
  },
  {
   "cell_type": "markdown",
   "id": "colored-thesis",
   "metadata": {},
   "source": [
    "---\n",
    "\n",
    "We can see that from the above data, that most of the ads clicked from the `Android` os, so we can also reduce the categories to 2 only, `Android` and `Not Android`.\n",
    "\n",
    "---"
   ]
  },
  {
   "cell_type": "markdown",
   "id": "received-leave",
   "metadata": {},
   "source": [
    "### `Summary of Data Exploration`\n",
    "\n",
    "- Most number of Ads were shown in the country `IN` and highest percentage of Ads were clicked in `RU`.\n",
    "- More than 98 percent of the devices are running on `Android` os."
   ]
  },
  {
   "cell_type": "markdown",
   "id": "convertible-delhi",
   "metadata": {},
   "source": [
    "---\n",
    "\n",
    "## `Pre-Processing`\n",
    "\n",
    "---\n",
    "\n",
    "- We will fill the Null Values.\n",
    "- We will do label-encoding the categorical variable.\n",
    "- We will do one-hot encoding the categorical variables.\n",
    "\n",
    "\n",
    "---"
   ]
  },
  {
   "cell_type": "markdown",
   "id": "literary-check",
   "metadata": {},
   "source": [
    "---\n",
    "\n",
    "#### `Fill Null Values`\n",
    "---\n",
    "\n",
    "We will fill the null values with the following values.\n",
    "\n",
    "\n",
    "- **`Country`** with **`IN`**: As most of the Ads were shown in this country.\n",
    "- **`TrafficType`** with **`U`**: `U` means unidentified, we have discussed this in the exploration part.\n",
    "- **`Device`** with **`1`**: `Generic` for 1 as they are unidentified devices.\n",
    "- **`Broswer`** with **`chrome`**: As most of the data points have `chrome` browser.\n",
    "- **`OS`** with **`Android`**: As most of the data points have `Android` OS.\n",
    "- **`total_c_id`** with 0:  As for the new campaigns which comes in future, we have no data.\n",
    "- **`total_p_id`** with 0:  As for the new campaigns which comes in future, we have no data.\n",
    "\n",
    "---"
   ]
  },
  {
   "cell_type": "code",
   "execution_count": 56,
   "id": "fitted-glenn",
   "metadata": {},
   "outputs": [],
   "source": [
    "# fill null values in the train data\n",
    "train_data = train_data.fillna({\n",
    "            \"Fraud\" : 0,\n",
    "            \"country_modified\": \"IN\",\n",
    "            \"TrafficType\" : \"U\",\n",
    "            \"device_modified\": 1,\n",
    "            \"browser_modified\": \"chrome\",\n",
    "            \"modified_os\": \"Android\",\n",
    "            \"total_c_id\" : 0,\n",
    "            \"total_p_id\" : 0\n",
    "        })"
   ]
  },
  {
   "cell_type": "code",
   "execution_count": 57,
   "id": "surrounded-confidentiality",
   "metadata": {},
   "outputs": [],
   "source": [
    "# fill null values in the test data\n",
    "test_data = test_data.fillna({\n",
    "            \"Fraud\" : 0,\n",
    "            \"country_modified\": \"IN\",\n",
    "            \"TrafficType\" : \"U\",\n",
    "            \"device_modified\": 1,\n",
    "            \"browser_modified\": \"chrome\",\n",
    "            \"modified_os\": \"Android\",\n",
    "            \"total_c_id\" : 0,\n",
    "            \"total_p_id\" : 0\n",
    "        })\n",
    "\n",
    "# fill null values in the test data\n",
    "valid_data = valid_data.fillna({\n",
    "            \"Fraud\" : 0,\n",
    "            \"country_modified\": \"IN\",\n",
    "            \"TrafficType\" : \"A\",\n",
    "            \"device_modified\": 1,\n",
    "            \"browser_modified\": \"chrome\",\n",
    "            \"modified_os\": \"Android\",\n",
    "            \"total_c_id\" : 0,\n",
    "            \"total_p_id\" : 0\n",
    "        })"
   ]
  },
  {
   "cell_type": "markdown",
   "id": "light-yugoslavia",
   "metadata": {},
   "source": [
    "---\n",
    "\n",
    "#### `Encoding Categorical Variables`\n",
    "\n",
    "Categorical values need to be encoded or converted to numeric form before inputting it to an ML model.\n",
    "\n",
    "Two ways of encoding categorical values:\n",
    "\n",
    "**Label Encoding**\n",
    "\n",
    "   > Assigning a unique integer to each of the categorical values\n",
    "   > Done using StringIndexer\n",
    "\n",
    "![](images/module_12_pre_processing_le.png)\n",
    "\n",
    "\n",
    "\n",
    "**One Hot Encoding**\n",
    "\n",
    "   > New columns created for each of the unique value in categorical column. Values assigned 0 or 1 based on the presence of the data.\n",
    "   > Requires features to be label encoded first.\n",
    "   > Done using OneHotEncoderEstimator\n",
    "    \n",
    "![](images/module_12_pre_processing_ohe.png)\n",
    "\n",
    "\n",
    "----\n",
    "\n",
    "We will do the following encoding of the categorical variables in this notebook.\n",
    "\n",
    " - Country (One Hot Encode)\n",
    " - Traffic (One Hot Encode) \n",
    " - Browser (One Hot Encode)\n",
    " - OS      (One Hot Encode)    \n",
    " \n",
    "    \n",
    "    \n",
    "---"
   ]
  },
  {
   "cell_type": "markdown",
   "id": "robust-damages",
   "metadata": {},
   "source": [
    "#### `Importing the Required Libraries`\n",
    "\n",
    "---"
   ]
  },
  {
   "cell_type": "code",
   "execution_count": 58,
   "id": "chinese-heather",
   "metadata": {},
   "outputs": [],
   "source": [
    "# importing some more libraries\n",
    "from pyspark.ml.feature import StringIndexer\n",
    "from pyspark.ml.feature import OneHotEncoderEstimator"
   ]
  },
  {
   "cell_type": "markdown",
   "id": "crude-singing",
   "metadata": {},
   "source": [
    "---\n",
    "\n",
    "#### `Creating the StringIndexer Objects`\n",
    "\n",
    "---"
   ]
  },
  {
   "cell_type": "code",
   "execution_count": 59,
   "id": "developmental-monkey",
   "metadata": {},
   "outputs": [],
   "source": [
    "# label encode country\n",
    "SI_Country = StringIndexer(inputCol= \"country_modified\", outputCol= \"country_le\" , handleInvalid=\"skip\")\n",
    "\n",
    "# label encode browser\n",
    "SI_Browser = StringIndexer(inputCol= \"browser_modified\", outputCol= \"browser_le\", handleInvalid= \"skip\")\n",
    "\n",
    "# label encode os\n",
    "SI_OS      = StringIndexer(inputCol= \"modified_os\",      outputCol= \"os_le\", handleInvalid= \"skip\")\n",
    "\n",
    "# label encode traffic\n",
    "SI_Traffic = StringIndexer(inputCol= \"TrafficType\", outputCol= \"traffic_le\", handleInvalid=\"skip\")"
   ]
  },
  {
   "cell_type": "markdown",
   "id": "integral-basket",
   "metadata": {},
   "source": [
    "---\n",
    "\n",
    "#### `Fit the StringIndexer Objects`\n",
    "\n",
    "---"
   ]
  },
  {
   "cell_type": "code",
   "execution_count": 60,
   "id": "regulation-flashing",
   "metadata": {},
   "outputs": [],
   "source": [
    "# label encode object country\n",
    "SI_Country_Obj = SI_Country.fit(train_data)\n",
    "\n",
    "# label encode object browser\n",
    "SI_Browser_Obj = SI_Browser.fit(train_data)\n",
    "\n",
    "# label encode object os\n",
    "SI_OS_Obj = SI_OS.fit(train_data)\n",
    "\n",
    "# label encode object traffic\n",
    "SI_Traffic_Obj = SI_Traffic.fit(train_data)"
   ]
  },
  {
   "cell_type": "markdown",
   "id": "colonial-marshall",
   "metadata": {},
   "source": [
    "---\n",
    "\n",
    "#### `Transform the StringIndexer Objects`\n",
    "\n",
    "----"
   ]
  },
  {
   "cell_type": "code",
   "execution_count": 61,
   "id": "cosmetic-listing",
   "metadata": {},
   "outputs": [],
   "source": [
    "# label encode country\n",
    "train_data_encoded = SI_Country_Obj.transform(train_data)\n",
    "\n",
    "# label encode browser\n",
    "train_data_encoded = SI_Browser_Obj.transform(train_data_encoded)\n",
    "\n",
    "# label encode os\n",
    "train_data_encoded = SI_OS_Obj.transform(train_data_encoded)\n",
    "\n",
    "# label encode traffic\n",
    "train_data_encoded = SI_Traffic_Obj.transform(train_data_encoded)"
   ]
  },
  {
   "cell_type": "markdown",
   "id": "sublime-workshop",
   "metadata": {},
   "source": [
    "----\n",
    "\n",
    "#### `Make the Transformation on the test data`\n",
    "\n",
    "---"
   ]
  },
  {
   "cell_type": "code",
   "execution_count": 62,
   "id": "dress-meeting",
   "metadata": {},
   "outputs": [],
   "source": [
    "# label encode country\n",
    "\n",
    "# validation data\n",
    "valid_data_encoded = SI_Country_Obj.transform(valid_data)\n",
    "# test data\n",
    "test_data_encoded = SI_Country_Obj.transform(test_data)\n",
    "\n",
    "\n",
    "# label encode browser\n",
    "\n",
    "# validation data\n",
    "valid_data_encoded = SI_Browser_Obj.transform(valid_data_encoded)\n",
    "# test data\n",
    "test_data_encoded = SI_Browser_Obj.transform(test_data_encoded)\n",
    "\n",
    "# label encode os\n",
    "\n",
    "# validation data\n",
    "valid_data_encoded = SI_OS_Obj.transform(valid_data_encoded)\n",
    "# test data\n",
    "test_data_encoded = SI_OS_Obj.transform(test_data_encoded)\n",
    "\n",
    "# label encode traffic\n",
    "\n",
    "# validation data\n",
    "valid_data_encoded = SI_Traffic_Obj.transform(valid_data_encoded)\n",
    "test_data_encoded = SI_Traffic_Obj.transform(test_data_encoded)"
   ]
  },
  {
   "cell_type": "code",
   "execution_count": 63,
   "id": "electrical-assembly",
   "metadata": {},
   "outputs": [
    {
     "data": {
      "text/plain": [
       "['advertiserCampaignId',\n",
       " 'publisherId',\n",
       " 'ID',\n",
       " 'Country',\n",
       " 'Carrier',\n",
       " 'TrafficType',\n",
       " 'ClickDate',\n",
       " 'Device',\n",
       " 'Browser',\n",
       " 'OS',\n",
       " 'ConversionStatus',\n",
       " 'Fraud',\n",
       " 'country_modified',\n",
       " 'device_modified',\n",
       " 'browser_modified',\n",
       " 'modified_os',\n",
       " 'total_p_id',\n",
       " 'total_c_id',\n",
       " 'country_le',\n",
       " 'browser_le',\n",
       " 'os_le',\n",
       " 'traffic_le']"
      ]
     },
     "execution_count": 63,
     "metadata": {},
     "output_type": "execute_result"
    }
   ],
   "source": [
    "# let's check the columns in the data\n",
    "train_data_encoded.columns"
   ]
  },
  {
   "cell_type": "markdown",
   "id": "amended-stockholm",
   "metadata": {},
   "source": [
    "---\n",
    "\n",
    "### `ONE-HOT ENCODING`\n",
    "\n",
    "---"
   ]
  },
  {
   "cell_type": "markdown",
   "id": "promising-fundamental",
   "metadata": {},
   "source": [
    "---\n",
    "\n",
    "Next, we will create the object of the `OneHotEncoderEstimator` and pass the input and output columns list.\n",
    "\n",
    "---"
   ]
  },
  {
   "cell_type": "code",
   "execution_count": 64,
   "id": "color-freight",
   "metadata": {},
   "outputs": [],
   "source": [
    "OHE_train = OneHotEncoderEstimator(inputCols=[\"country_le\",\n",
    "                                              \"browser_le\",\n",
    "                                              \"os_le\",\n",
    "                                              \"traffic_le\"],\n",
    "                                  outputCols=[\"country_ohe\",\n",
    "                                              \"browser_ohe\",\n",
    "                                              \"os_ohe\",\n",
    "                                              \"traffic_ohe\"])"
   ]
  },
  {
   "cell_type": "markdown",
   "id": "environmental-sheffield",
   "metadata": {},
   "source": [
    "---\n",
    "\n",
    "Fit & Transform the data.\n",
    "\n",
    "---"
   ]
  },
  {
   "cell_type": "code",
   "execution_count": 65,
   "id": "simplified-service",
   "metadata": {},
   "outputs": [],
   "source": [
    "# OHE object\n",
    "OHE_Obj = OHE_train.fit(train_data_encoded)"
   ]
  },
  {
   "cell_type": "code",
   "execution_count": 66,
   "id": "stopped-commonwealth",
   "metadata": {},
   "outputs": [],
   "source": [
    "# Transform train data\n",
    "train_data_encoded = OHE_Obj.transform(train_data_encoded)"
   ]
  },
  {
   "cell_type": "code",
   "execution_count": 67,
   "id": "japanese-editing",
   "metadata": {},
   "outputs": [
    {
     "name": "stdout",
     "output_type": "stream",
     "text": [
      "+-------+----------------+--------------+----------------+-------------+-----------+-------------+\n",
      "|     ID|country_modified|   country_ohe|browser_modified|  browser_ohe|modified_os|       os_ohe|\n",
      "+-------+----------------+--------------+----------------+-------------+-----------+-------------+\n",
      "|1525010|              IN|(20,[0],[1.0])|          chrome|(3,[0],[1.0])|    Android|(2,[0],[1.0])|\n",
      "| 176007|              IN|(20,[0],[1.0])|          chrome|(3,[0],[1.0])|    Android|(2,[0],[1.0])|\n",
      "|1772096|              IN|(20,[0],[1.0])|          chrome|(3,[0],[1.0])|    Android|(2,[0],[1.0])|\n",
      "|1811022|              IN|(20,[0],[1.0])|          chrome|(3,[0],[1.0])|    Android|(2,[0],[1.0])|\n",
      "|1633774|              IN|(20,[0],[1.0])|          chrome|(3,[0],[1.0])|    Android|(2,[0],[1.0])|\n",
      "|1706800|              IN|(20,[0],[1.0])|          chrome|(3,[0],[1.0])|    Android|(2,[0],[1.0])|\n",
      "| 192711|              IN|(20,[0],[1.0])|          chrome|(3,[0],[1.0])|    Android|(2,[0],[1.0])|\n",
      "|1144160|              IN|(20,[0],[1.0])|          chrome|(3,[0],[1.0])|    Android|(2,[0],[1.0])|\n",
      "| 470665|              IN|(20,[0],[1.0])|          chrome|(3,[0],[1.0])|    Android|(2,[0],[1.0])|\n",
      "|1763324|              IN|(20,[0],[1.0])|          chrome|(3,[0],[1.0])|    Android|(2,[0],[1.0])|\n",
      "|1077311|              IN|(20,[0],[1.0])|          chrome|(3,[0],[1.0])|    Android|(2,[0],[1.0])|\n",
      "|1500985|              IN|(20,[0],[1.0])|          chrome|(3,[0],[1.0])|    Android|(2,[0],[1.0])|\n",
      "|1085994|              IN|(20,[0],[1.0])|          chrome|(3,[0],[1.0])|    Android|(2,[0],[1.0])|\n",
      "|1106156|              IN|(20,[0],[1.0])|          chrome|(3,[0],[1.0])|    Android|(2,[0],[1.0])|\n",
      "|1994493|              IN|(20,[0],[1.0])|          chrome|(3,[0],[1.0])|    Android|(2,[0],[1.0])|\n",
      "|1852826|              IN|(20,[0],[1.0])|          chrome|(3,[0],[1.0])|    Android|(2,[0],[1.0])|\n",
      "|1725061|              IN|(20,[0],[1.0])|          chrome|(3,[0],[1.0])|    Android|(2,[0],[1.0])|\n",
      "| 969779|              IN|(20,[0],[1.0])|          chrome|(3,[0],[1.0])|    Android|(2,[0],[1.0])|\n",
      "|1705318|              IN|(20,[0],[1.0])|          chrome|(3,[0],[1.0])|    Android|(2,[0],[1.0])|\n",
      "|1155526|              IN|(20,[0],[1.0])|          chrome|(3,[0],[1.0])|    Android|(2,[0],[1.0])|\n",
      "+-------+----------------+--------------+----------------+-------------+-----------+-------------+\n",
      "only showing top 20 rows\n",
      "\n"
     ]
    }
   ],
   "source": [
    "# view the one hot encoded data\n",
    "train_data_encoded.select(\"ID\",\n",
    "                          \"country_modified\", \n",
    "                          \"country_ohe\",\n",
    "                          \"browser_modified\",\n",
    "                          \"browser_ohe\",\n",
    "                          \"modified_os\",\n",
    "                          \"os_ohe\").show()"
   ]
  },
  {
   "cell_type": "markdown",
   "id": "stone-nigeria",
   "metadata": {},
   "source": [
    "----\n",
    "\n",
    "#### `Make the transformation on test data`\n",
    "\n",
    "----"
   ]
  },
  {
   "cell_type": "code",
   "execution_count": 68,
   "id": "damaged-moisture",
   "metadata": {},
   "outputs": [],
   "source": [
    "# transform the data\n",
    "\n",
    "# validation data\n",
    "valid_data_encoded = OHE_Obj.transform(valid_data_encoded)\n",
    "# test data\n",
    "test_data_encoded = OHE_Obj.transform(test_data_encoded)"
   ]
  },
  {
   "cell_type": "markdown",
   "id": "rational-receipt",
   "metadata": {},
   "source": [
    "---\n",
    "\n",
    "\n",
    "## `MODEL BUILDING`\n",
    "\n",
    "Now, we have prepared the dataset and it is ready to be trained with Machine Learning models. This is a `Classification Problem`, so we will train the data on the following alogrithms.\n",
    "\n",
    " * **Logistic Regression**\n",
    " * **Decision Tree Classification**\n",
    "\n",
    "\n",
    "\n",
    "---"
   ]
  },
  {
   "cell_type": "markdown",
   "id": "alone-roberts",
   "metadata": {},
   "source": [
    "---\n",
    "\n",
    "#### `VECTOR ASSEMBLER`\n",
    "\n",
    "- Before passing the data into the ML model, we need to convert the required features into a Vector. We can do this using a `VectorAssembler`.\n",
    "---"
   ]
  },
  {
   "cell_type": "code",
   "execution_count": 69,
   "id": "threatened-correction",
   "metadata": {},
   "outputs": [
    {
     "data": {
      "text/plain": [
       "['advertiserCampaignId',\n",
       " 'publisherId',\n",
       " 'ID',\n",
       " 'Country',\n",
       " 'Carrier',\n",
       " 'TrafficType',\n",
       " 'ClickDate',\n",
       " 'Device',\n",
       " 'Browser',\n",
       " 'OS',\n",
       " 'ConversionStatus',\n",
       " 'Fraud',\n",
       " 'country_modified',\n",
       " 'device_modified',\n",
       " 'browser_modified',\n",
       " 'modified_os',\n",
       " 'total_p_id',\n",
       " 'total_c_id',\n",
       " 'country_le',\n",
       " 'browser_le',\n",
       " 'os_le',\n",
       " 'traffic_le',\n",
       " 'country_ohe',\n",
       " 'browser_ohe',\n",
       " 'os_ohe',\n",
       " 'traffic_ohe']"
      ]
     },
     "execution_count": 69,
     "metadata": {},
     "output_type": "execute_result"
    }
   ],
   "source": [
    "## columns in the dataset\n",
    "train_data_encoded.columns"
   ]
  },
  {
   "cell_type": "markdown",
   "id": "northern-memorabilia",
   "metadata": {},
   "source": [
    "---\n",
    "\n",
    "#### `Define the VectorAssembler Object`\n",
    "\n",
    "---"
   ]
  },
  {
   "cell_type": "markdown",
   "id": "rough-stadium",
   "metadata": {},
   "source": [
    "----\n",
    "\n",
    "So, now we will select the features and create a vector using `VectorAssembler`\n",
    "\n",
    " * traffic (One Hot Encoded)\n",
    " * Fraud   (As it is)\n",
    " * total_p_id (Feature Created: Frequency per Publisher id)\n",
    " * total_c_id (Feature Created: Frequency per Campaign Id)\n",
    " * country_ohe (One Hot Encoded)\n",
    " * device_modified (Label Encoded)\n",
    " * browser_ohe (One Hot Encoded)\n",
    " * os_ohe (One Hot Encoded)\n",
    "\n",
    "----"
   ]
  },
  {
   "cell_type": "code",
   "execution_count": 70,
   "id": "creative-weather",
   "metadata": {},
   "outputs": [],
   "source": [
    "# import the library\n",
    "from pyspark.ml.feature import VectorAssembler\n",
    "\n",
    "# create feature vector\n",
    "feature_vector = VectorAssembler(inputCols= ['traffic_ohe',\n",
    "                                             'Fraud',\n",
    "                                             'total_p_id',\n",
    "                                             'total_c_id',\n",
    "                                             'country_ohe',\n",
    "                                             'device_modified',\n",
    "                                             'browser_ohe',\n",
    "                                             'os_ohe'],\n",
    "                                outputCol= 'feature_vector')"
   ]
  },
  {
   "cell_type": "markdown",
   "id": "religious-plate",
   "metadata": {},
   "source": [
    "---\n",
    "\n",
    "`TRANSFORM THE FEATURE VECTOR`\n",
    "\n",
    "----"
   ]
  },
  {
   "cell_type": "code",
   "execution_count": 71,
   "id": "lesbian-screw",
   "metadata": {},
   "outputs": [],
   "source": [
    "# transform the feature vector\n",
    "train_data_encoded = feature_vector.transform(train_data_encoded)"
   ]
  },
  {
   "cell_type": "code",
   "execution_count": 72,
   "id": "frequent-combining",
   "metadata": {},
   "outputs": [
    {
     "name": "stdout",
     "output_type": "stream",
     "text": [
      "+--------------------+\n",
      "|      feature_vector|\n",
      "+--------------------+\n",
      "|(31,[0,3,4,5,25,2...|\n",
      "|(31,[0,3,4,5,26,2...|\n",
      "|(31,[0,3,4,5,25,2...|\n",
      "|(31,[0,3,4,5,26,2...|\n",
      "|(31,[0,3,4,5,25,2...|\n",
      "|(31,[0,3,4,5,26,2...|\n",
      "|(31,[0,3,4,5,26,2...|\n",
      "|(31,[0,3,4,5,25,2...|\n",
      "|(31,[0,3,4,5,26,2...|\n",
      "|(31,[0,3,4,5,26,2...|\n",
      "+--------------------+\n",
      "only showing top 10 rows\n",
      "\n"
     ]
    }
   ],
   "source": [
    "# view the feature vector\n",
    "train_data_encoded.select(\"feature_vector\").show(10)"
   ]
  },
  {
   "cell_type": "code",
   "execution_count": 73,
   "id": "infrared-transparency",
   "metadata": {},
   "outputs": [
    {
     "name": "stdout",
     "output_type": "stream",
     "text": [
      "root\n",
      " |-- advertiserCampaignId: double (nullable = true)\n",
      " |-- publisherId: string (nullable = true)\n",
      " |-- ID: integer (nullable = true)\n",
      " |-- Country: string (nullable = true)\n",
      " |-- Carrier: double (nullable = true)\n",
      " |-- TrafficType: string (nullable = false)\n",
      " |-- ClickDate: timestamp (nullable = true)\n",
      " |-- Device: string (nullable = true)\n",
      " |-- Browser: string (nullable = true)\n",
      " |-- OS: string (nullable = true)\n",
      " |-- ConversionStatus: integer (nullable = true)\n",
      " |-- Fraud: double (nullable = false)\n",
      " |-- country_modified: string (nullable = false)\n",
      " |-- device_modified: integer (nullable = false)\n",
      " |-- browser_modified: string (nullable = false)\n",
      " |-- modified_os: string (nullable = false)\n",
      " |-- total_p_id: long (nullable = false)\n",
      " |-- total_c_id: long (nullable = false)\n",
      " |-- country_le: double (nullable = false)\n",
      " |-- browser_le: double (nullable = false)\n",
      " |-- os_le: double (nullable = false)\n",
      " |-- traffic_le: double (nullable = false)\n",
      " |-- country_ohe: vector (nullable = true)\n",
      " |-- browser_ohe: vector (nullable = true)\n",
      " |-- os_ohe: vector (nullable = true)\n",
      " |-- traffic_ohe: vector (nullable = true)\n",
      " |-- feature_vector: vector (nullable = true)\n",
      "\n"
     ]
    }
   ],
   "source": [
    "# we can see that the data type of the `feature_vector` is vector\n",
    "train_data_encoded.printSchema()"
   ]
  },
  {
   "cell_type": "markdown",
   "id": "speaking-platform",
   "metadata": {},
   "source": [
    "----\n",
    "\n",
    "#### `Make the transformation on test data.`\n",
    "\n",
    "----"
   ]
  },
  {
   "cell_type": "code",
   "execution_count": 74,
   "id": "threatened-chuck",
   "metadata": {},
   "outputs": [],
   "source": [
    "# transform the feature vector\n",
    "\n",
    "# validation data\n",
    "valid_data_encoded = feature_vector.transform(valid_data_encoded)\n",
    "# test data\n",
    "test_data_encoded = feature_vector.transform(test_data_encoded)"
   ]
  },
  {
   "cell_type": "markdown",
   "id": "surgical-joining",
   "metadata": {},
   "source": [
    "---\n",
    "\n",
    "#### `LOGISTIC REGRESSION`\n",
    "\n",
    "First, we will train the model with the Logistic Regression and see the `AOC-ROC`.\n",
    "\n",
    "For that let's import some more libraries.\n",
    "\n",
    "----"
   ]
  },
  {
   "cell_type": "code",
   "execution_count": 75,
   "id": "appreciated-tract",
   "metadata": {},
   "outputs": [],
   "source": [
    "# importing the libraries\n",
    "from pyspark.ml import classification\n",
    "from pyspark.ml.evaluation import BinaryClassificationEvaluator"
   ]
  },
  {
   "cell_type": "markdown",
   "id": "designed-profit",
   "metadata": {},
   "source": [
    "---\n",
    "\n",
    "First we will create the Logistic Regression and pass the `feature vector` and the label column which is `ConversionStatus`\n",
    "\n",
    "---"
   ]
  },
  {
   "cell_type": "code",
   "execution_count": 76,
   "id": "collaborative-spring",
   "metadata": {},
   "outputs": [],
   "source": [
    "model_LR = classification.LogisticRegression(featuresCol='feature_vector', labelCol=\"ConversionStatus\")"
   ]
  },
  {
   "cell_type": "markdown",
   "id": "infinite-smell",
   "metadata": {},
   "source": [
    "---\n",
    "\n",
    "\n",
    "Fit the model\n",
    "\n",
    "---"
   ]
  },
  {
   "cell_type": "code",
   "execution_count": 77,
   "id": "timely-stick",
   "metadata": {},
   "outputs": [],
   "source": [
    "model_LR = model_LR.fit(train_data_encoded)"
   ]
  },
  {
   "cell_type": "markdown",
   "id": "hindu-competition",
   "metadata": {},
   "source": [
    "---\n",
    "\n",
    "Next, we will use the `BinaryClassificationEvaluator` to calculate the `AUC-ROC score` and for that we have to pass the `labelCol: ConversionStatus` and the `metricName: areaUnderROC`\n",
    "\n",
    "---"
   ]
  },
  {
   "cell_type": "code",
   "execution_count": 78,
   "id": "statutory-essex",
   "metadata": {},
   "outputs": [
    {
     "data": {
      "text/plain": [
       "0.7376408496503599"
      ]
     },
     "execution_count": 78,
     "metadata": {},
     "output_type": "execute_result"
    }
   ],
   "source": [
    "# Evaluate training data\n",
    "evaluator = BinaryClassificationEvaluator(labelCol=\"ConversionStatus\", metricName=\"areaUnderROC\") \n",
    "evaluator.evaluate(model_LR.transform(train_data_encoded)) "
   ]
  },
  {
   "cell_type": "markdown",
   "id": "funky-banking",
   "metadata": {},
   "source": [
    "---\n",
    "\n",
    "So, we got the`ROC`: 0.7377\n",
    "\n",
    "\n",
    "\n",
    "\n",
    "---"
   ]
  },
  {
   "cell_type": "code",
   "execution_count": 79,
   "id": "human-binding",
   "metadata": {},
   "outputs": [
    {
     "data": {
      "text/plain": [
       "0.6925886389513927"
      ]
     },
     "execution_count": 79,
     "metadata": {},
     "output_type": "execute_result"
    }
   ],
   "source": [
    "# Evaluate validation data\n",
    "evaluator.evaluate(model_LR.transform(valid_data_encoded))"
   ]
  },
  {
   "cell_type": "markdown",
   "id": "positive-montana",
   "metadata": {},
   "source": [
    "---\n",
    "\n",
    "#### `DECISION TREE CLASSIFIER`\n",
    "\n",
    "\n",
    "Next, we will train the decision tree classifier model and do the same steps as we did with the logistic regression.\n",
    "\n",
    "---"
   ]
  },
  {
   "cell_type": "code",
   "execution_count": 80,
   "id": "matched-shannon",
   "metadata": {},
   "outputs": [],
   "source": [
    "# create object of DecisionTreeClassifier\n",
    "model_DTR = classification.DecisionTreeClassifier(featuresCol= \"feature_vector\",  labelCol=\"ConversionStatus\")"
   ]
  },
  {
   "cell_type": "code",
   "execution_count": 81,
   "id": "golden-dylan",
   "metadata": {},
   "outputs": [],
   "source": [
    "# fit the model\n",
    "model_DTR = model_DTR.fit(train_data_encoded)"
   ]
  },
  {
   "cell_type": "code",
   "execution_count": 82,
   "id": "electronic-equation",
   "metadata": {},
   "outputs": [
    {
     "data": {
      "text/plain": [
       "0.5"
      ]
     },
     "execution_count": 82,
     "metadata": {},
     "output_type": "execute_result"
    }
   ],
   "source": [
    "# evaluate the model\n",
    "evaluator.evaluate(model_DTR.transform(train_data_encoded))"
   ]
  },
  {
   "cell_type": "markdown",
   "id": "referenced-works",
   "metadata": {},
   "source": [
    "So, the `ROC: 0.5` which means that Logistic Regression was better than Decision Tree.\n",
    "\n",
    "\n",
    "---"
   ]
  },
  {
   "cell_type": "code",
   "execution_count": 83,
   "id": "sought-repair",
   "metadata": {},
   "outputs": [
    {
     "data": {
      "text/plain": [
       "0.5"
      ]
     },
     "execution_count": 83,
     "metadata": {},
     "output_type": "execute_result"
    }
   ],
   "source": [
    "# Evaluate on validation data\n",
    "evaluator.evaluate(model_DTR.transform(valid_data_encoded))"
   ]
  },
  {
   "cell_type": "code",
   "execution_count": null,
   "id": "framed-prison",
   "metadata": {},
   "outputs": [],
   "source": []
  },
  {
   "cell_type": "markdown",
   "id": "broad-concrete",
   "metadata": {},
   "source": [
    "----\n",
    "\n",
    "#### `RANDOM FOREST CLASSIFIER`\n",
    "\n",
    "---\n",
    "\n",
    "##### `EXERCISE`\n",
    "\n",
    "----"
   ]
  },
  {
   "cell_type": "code",
   "execution_count": 84,
   "id": "nasty-premiere",
   "metadata": {},
   "outputs": [],
   "source": [
    "# write your code here"
   ]
  },
  {
   "cell_type": "markdown",
   "id": "confident-hierarchy",
   "metadata": {},
   "source": [
    "---\n",
    "\n",
    "# `Model Tuning`\n",
    "\n",
    "* **Cross-Validation**\n",
    "* **Grid-Search**\n",
    "\n",
    "---"
   ]
  },
  {
   "cell_type": "markdown",
   "id": "cooperative-nerve",
   "metadata": {},
   "source": [
    "---\n",
    "\n",
    "So far, we saw the `Logistic Regression` and `Decision Tree` algorithms. But we were running them using the default parameters only. So, we will tune the parameters of our model and see if it gets any better. \n",
    "\n",
    "First we, will do the cross validation\n",
    "\n",
    "---\n",
    "\n",
    "## `CROSS VALIDATION`\n",
    "\n",
    "\n",
    "\n",
    "\n",
    "Let's see how to do the cross validation.\n",
    "\n",
    "![](images/module_12_tuning_cross_val.png)\n",
    "\n",
    "\n",
    "---"
   ]
  },
  {
   "cell_type": "code",
   "execution_count": 85,
   "id": "entitled-atlanta",
   "metadata": {},
   "outputs": [],
   "source": [
    "# import the CrossValidator and ParamGridBuilder\n",
    "from pyspark.ml.tuning import CrossValidator, ParamGridBuilder"
   ]
  },
  {
   "cell_type": "code",
   "execution_count": 86,
   "id": "monetary-lotus",
   "metadata": {},
   "outputs": [],
   "source": [
    "# create the ParamGridBuilder\n",
    "params = ParamGridBuilder().build()"
   ]
  },
  {
   "cell_type": "code",
   "execution_count": 87,
   "id": "advanced-latin",
   "metadata": {},
   "outputs": [],
   "source": [
    "# create the object of the Logistic Regression Model\n",
    "model_LR_CV = classification.LogisticRegression(featuresCol= \"feature_vector\",  labelCol=\"ConversionStatus\")"
   ]
  },
  {
   "cell_type": "code",
   "execution_count": 88,
   "id": "academic-progressive",
   "metadata": {},
   "outputs": [],
   "source": [
    "# create object of the cross validation model with numFolds = 3\n",
    "cv = CrossValidator(estimator=model_LR_CV,\n",
    "                    estimatorParamMaps=params,\n",
    "                    evaluator=evaluator,\n",
    "                    numFolds=3,\n",
    "                    seed=27)"
   ]
  },
  {
   "cell_type": "markdown",
   "id": "included-logic",
   "metadata": {},
   "source": [
    "---\n",
    "\n",
    "#### `FIT THE MODEL`\n",
    "\n",
    "---"
   ]
  },
  {
   "cell_type": "code",
   "execution_count": 89,
   "id": "collective-tokyo",
   "metadata": {},
   "outputs": [],
   "source": [
    "## fit the model\n",
    "cv_model = cv.fit(train_data_encoded)"
   ]
  },
  {
   "cell_type": "code",
   "execution_count": 90,
   "id": "front-maintenance",
   "metadata": {},
   "outputs": [
    {
     "data": {
      "text/plain": [
       "0.7378537881835213"
      ]
     },
     "execution_count": 90,
     "metadata": {},
     "output_type": "execute_result"
    }
   ],
   "source": [
    "# evaluate the model\n",
    "evaluator = BinaryClassificationEvaluator(labelCol=\"ConversionStatus\",metricName=\"areaUnderROC\") \n",
    "evaluator.evaluate(cv_model.transform(train_data_encoded)) "
   ]
  },
  {
   "cell_type": "code",
   "execution_count": 91,
   "id": "hired-pulse",
   "metadata": {},
   "outputs": [
    {
     "data": {
      "text/plain": [
       "0.6927723920753124"
      ]
     },
     "execution_count": 91,
     "metadata": {},
     "output_type": "execute_result"
    }
   ],
   "source": [
    "# evaluate model on validation data\n",
    "evaluator.evaluate(cv_model.transform(valid_data_encoded))"
   ]
  },
  {
   "cell_type": "markdown",
   "id": "automated-ultimate",
   "metadata": {},
   "source": [
    "---\n",
    "\n",
    "\n",
    "## `GRID SEARCH`\n",
    "\n",
    "Next, we will try the Grid Search where it will apply different combinations of parameter to give you the best model.\n",
    "\n",
    "---\n",
    "\n",
    "![](images/module_12_tuning_grid_search.png)\n",
    "\n",
    "---"
   ]
  },
  {
   "cell_type": "code",
   "execution_count": 92,
   "id": "thermal-amino",
   "metadata": {},
   "outputs": [],
   "source": [
    "# create parameter builder\n",
    "\n",
    "updated_params = ParamGridBuilder() \\\n",
    "                .addGrid(model_LR_CV.regParam, [0.01, 0.005, 0.0001]) \\\n",
    "                .addGrid(model_LR_CV.elasticNetParam, [0.1, 0.001]) \\\n",
    "                .build()"
   ]
  },
  {
   "cell_type": "code",
   "execution_count": 93,
   "id": "aging-charity",
   "metadata": {},
   "outputs": [],
   "source": [
    "# create object of the Cross Calidator with 3 folds\n",
    "cv = CrossValidator(estimator=model_LR_CV,\n",
    "                    estimatorParamMaps=updated_params,\n",
    "                    evaluator=evaluator,\n",
    "                    numFolds=3,\n",
    "                    seed=27)"
   ]
  },
  {
   "cell_type": "code",
   "execution_count": 94,
   "id": "separated-relay",
   "metadata": {},
   "outputs": [],
   "source": [
    "# fit the model\n",
    "grid_model = cv.fit(train_data_encoded)"
   ]
  },
  {
   "cell_type": "code",
   "execution_count": 95,
   "id": "increasing-luther",
   "metadata": {},
   "outputs": [
    {
     "data": {
      "text/plain": [
       "0.7374950078373576"
      ]
     },
     "execution_count": 95,
     "metadata": {},
     "output_type": "execute_result"
    }
   ],
   "source": [
    "# evaluate the model\n",
    "evaluator = BinaryClassificationEvaluator(labelCol=\"ConversionStatus\",metricName=\"areaUnderROC\") \n",
    "evaluator.evaluate(grid_model.transform(train_data_encoded))"
   ]
  },
  {
   "cell_type": "code",
   "execution_count": 96,
   "id": "portuguese-nicholas",
   "metadata": {},
   "outputs": [
    {
     "data": {
      "text/plain": [
       "0.6916072648769976"
      ]
     },
     "execution_count": 96,
     "metadata": {},
     "output_type": "execute_result"
    }
   ],
   "source": [
    "# evaluate model on validation data\n",
    "evaluator.evaluate(grid_model.transform(valid_data_encoded))"
   ]
  },
  {
   "cell_type": "markdown",
   "id": "neither-keyboard",
   "metadata": {},
   "source": [
    "---\n",
    "\n",
    "Get the best model parameters.\n",
    "\n",
    "---"
   ]
  },
  {
   "cell_type": "code",
   "execution_count": 97,
   "id": "freelance-empty",
   "metadata": {},
   "outputs": [],
   "source": [
    "# extract the best model parameters dictionary\n",
    "param_dict = grid_model.bestModel.extractParamMap()"
   ]
  },
  {
   "cell_type": "code",
   "execution_count": 98,
   "id": "indie-lighting",
   "metadata": {},
   "outputs": [
    {
     "data": {
      "text/plain": [
       "{Param(parent='LogisticRegression_8d2d271dff16', name='aggregationDepth', doc='suggested depth for treeAggregate (>= 2)'): 2,\n",
       " Param(parent='LogisticRegression_8d2d271dff16', name='elasticNetParam', doc='the ElasticNet mixing parameter, in range [0, 1]. For alpha = 0, the penalty is an L2 penalty. For alpha = 1, it is an L1 penalty'): 0.001,\n",
       " Param(parent='LogisticRegression_8d2d271dff16', name='family', doc='The name of family which is a description of the label distribution to be used in the model. Supported options: auto, binomial, multinomial.'): 'auto',\n",
       " Param(parent='LogisticRegression_8d2d271dff16', name='featuresCol', doc='features column name'): 'feature_vector',\n",
       " Param(parent='LogisticRegression_8d2d271dff16', name='fitIntercept', doc='whether to fit an intercept term'): True,\n",
       " Param(parent='LogisticRegression_8d2d271dff16', name='labelCol', doc='label column name'): 'ConversionStatus',\n",
       " Param(parent='LogisticRegression_8d2d271dff16', name='maxIter', doc='maximum number of iterations (>= 0)'): 100,\n",
       " Param(parent='LogisticRegression_8d2d271dff16', name='predictionCol', doc='prediction column name'): 'prediction',\n",
       " Param(parent='LogisticRegression_8d2d271dff16', name='probabilityCol', doc='Column name for predicted class conditional probabilities. Note: Not all models output well-calibrated probability estimates! These probabilities should be treated as confidences, not precise probabilities'): 'probability',\n",
       " Param(parent='LogisticRegression_8d2d271dff16', name='rawPredictionCol', doc='raw prediction (a.k.a. confidence) column name'): 'rawPrediction',\n",
       " Param(parent='LogisticRegression_8d2d271dff16', name='regParam', doc='regularization parameter (>= 0)'): 0.0001,\n",
       " Param(parent='LogisticRegression_8d2d271dff16', name='standardization', doc='whether to standardize the training features before fitting the model'): True,\n",
       " Param(parent='LogisticRegression_8d2d271dff16', name='threshold', doc='threshold in binary classification prediction, in range [0, 1]'): 0.5,\n",
       " Param(parent='LogisticRegression_8d2d271dff16', name='tol', doc='the convergence tolerance for iterative algorithms (>= 0)'): 1e-06}"
      ]
     },
     "execution_count": 98,
     "metadata": {},
     "output_type": "execute_result"
    }
   ],
   "source": [
    "param_dict"
   ]
  },
  {
   "cell_type": "code",
   "execution_count": 99,
   "id": "arbitrary-small",
   "metadata": {},
   "outputs": [],
   "source": [
    "# created a filtered dictionary\n",
    "final_dict = {}\n",
    "for k, v in param_dict.items():\n",
    "    final_dict[k.name] = v"
   ]
  },
  {
   "cell_type": "code",
   "execution_count": 100,
   "id": "fabulous-feature",
   "metadata": {},
   "outputs": [
    {
     "data": {
      "text/plain": [
       "0.001"
      ]
     },
     "execution_count": 100,
     "metadata": {},
     "output_type": "execute_result"
    }
   ],
   "source": [
    "# get the best elastic net parameter\n",
    "final_dict[\"elasticNetParam\"]"
   ]
  },
  {
   "cell_type": "code",
   "execution_count": 101,
   "id": "sonic-vocabulary",
   "metadata": {},
   "outputs": [
    {
     "data": {
      "text/plain": [
       "0.0001"
      ]
     },
     "execution_count": 101,
     "metadata": {},
     "output_type": "execute_result"
    }
   ],
   "source": [
    "# get the best regularization parameter\n",
    "final_dict[\"regParam\"]"
   ]
  },
  {
   "cell_type": "markdown",
   "id": "worst-arthur",
   "metadata": {
    "application/vnd.databricks.v1+cell": {
     "inputWidgets": {},
     "nuid": "16c23b2e-1faf-431f-8aa5-21c46bdcf01b",
     "showTitle": false,
     "title": ""
    }
   },
   "source": [
    "\n",
    "----\n",
    "----\n",
    "\n",
    "\n",
    "### `Machine Learning Pipelines in Spark`\n",
    "\n",
    "----\n",
    "\n",
    "\n",
    " *   `Transformer` \n",
    " > - It transforms the input data (X) in some ways.\n",
    " > - Implements a method `transform()`, which converts one DataFrame into another, generally by appending one or more columns.\n",
    " > - It includes `feature transformers` and `learned models`.\n",
    " > > - `Feature transformer` should take a DataFrame, read a column (e.g., text), map it into a new column (e.g., feature vectors), and output a new DataFrame with the mapped column appended.\n",
    " > > -  `Learning model` should take a DataFrame, read the column containing feature vectors, predict the label for each feature vector, and output a new DataFrame with predicted labels appended as a column.\n",
    " *   `Estimator` \n",
    " > - It predicts a new value (or values) (y) by using the input data (X).\n",
    " > - It implements a method `fit()`, which accepts a DataFrame and produces a `Model`, which is a `Transformer`.\n",
    " > > - For example, a learning algorithm such as `LogisticRegression` is an `Estimator`, and calling `fit()` trains a `LogisticRegressionModel`, which is a `Model` and hence a `Transformer`.\n",
    " * `Pipeline`\n",
    " > - It represents a sequence of steps to apply in an ML workflow. Example:\n",
    " > > - Stage 1 : Split text into words.\n",
    " > > - Stage 2 : Convert words into numeric data.\n",
    " > > - Stage 3 : Apply machine learning model on the numeric data.\n",
    " > - These steps are represented as `Transformers` or as `Estimators`.\n",
    " > - A `Pipeline` is comprised of `Stages`.\n",
    " > > - These stages are run in order.\n",
    " > > - The input DataFrame is transformed as it passes through each stage.\n",
    " > > - Each stage is either a `Transformer` or an `Estimator`.\n",
    " \n",
    " ---\n",
    " \n",
    "**`Import the Required Libraries`**\n",
    " \n",
    " ---"
   ]
  },
  {
   "cell_type": "code",
   "execution_count": 102,
   "id": "becoming-priority",
   "metadata": {
    "application/vnd.databricks.v1+cell": {
     "inputWidgets": {},
     "nuid": "0ad6ce1c-dd04-4580-95ec-022a4436ccd7",
     "showTitle": false,
     "title": ""
    }
   },
   "outputs": [],
   "source": [
    "## Import the Required Libraries \n",
    "from pyspark.ml import Pipeline\n",
    "from pyspark.ml.feature import OneHotEncoderEstimator, StringIndexer, VectorAssembler\n",
    "from pyspark.ml import Transformer\n",
    "from pyspark.ml.param.shared import HasInputCol, HasOutputCol, Param\n",
    "from pyspark.ml import classification"
   ]
  },
  {
   "cell_type": "markdown",
   "id": "detected-telephone",
   "metadata": {
    "application/vnd.databricks.v1+cell": {
     "inputWidgets": {},
     "nuid": "d20d38e9-a6b7-41e4-97d5-0a93e2c35888",
     "showTitle": false,
     "title": ""
    }
   },
   "source": [
    "---\n",
    "#### **`Creating a Sample Dataframe`**\n",
    "\n",
    "---"
   ]
  },
  {
   "cell_type": "code",
   "execution_count": 103,
   "id": "indoor-hopkins",
   "metadata": {
    "application/vnd.databricks.v1+cell": {
     "inputWidgets": {},
     "nuid": "91fa368b-44ef-4f4d-aa57-04bfe6afe952",
     "showTitle": false,
     "title": ""
    }
   },
   "outputs": [],
   "source": [
    "# Create a sample dataframe\n",
    "sample_df = spark.createDataFrame([\n",
    "                                    (1, 'L101', 'R'),\n",
    "                                    (2, 'L201', 'C'),\n",
    "                                    (3, 'D111', 'R'),\n",
    "                                    (4, 'F210', 'R'),\n",
    "                                    (5, 'D110', 'C')\n",
    "                                ], \n",
    "                                ['id', 'category_1', 'category_2'])"
   ]
  },
  {
   "cell_type": "code",
   "execution_count": 104,
   "id": "comparative-yeast",
   "metadata": {},
   "outputs": [
    {
     "name": "stdout",
     "output_type": "stream",
     "text": [
      "+---+----------+----------+\n",
      "| id|category_1|category_2|\n",
      "+---+----------+----------+\n",
      "|  1|      L101|         R|\n",
      "|  2|      L201|         C|\n",
      "|  3|      D111|         R|\n",
      "|  4|      F210|         R|\n",
      "|  5|      D110|         C|\n",
      "+---+----------+----------+\n",
      "\n"
     ]
    }
   ],
   "source": [
    "# Display dataset\n",
    "sample_df.show()"
   ]
  },
  {
   "cell_type": "markdown",
   "id": "sophisticated-turtle",
   "metadata": {
    "application/vnd.databricks.v1+cell": {
     "inputWidgets": {},
     "nuid": "733ce8fc-d554-48cc-ab03-44fa7559c714",
     "showTitle": false,
     "title": ""
    }
   },
   "source": [
    "---\n",
    "\n",
    "#### **`Defining the different Stages of the Pipeline`**\n",
    "\n",
    "---\n",
    "\n",
    "We have created the dataframe. Suppose we have to transform the data in the below order:\n",
    "\n",
    "   * **stage_1:** Label Encode or String Index the column category_1\n",
    "   * **stage_2:** Label Encode or String Index the column category_2\n",
    "   * **stage_3:** One-Hot Encode the indexed column category_2\n",
    "   \n",
    "---   \n",
    "   \n",
    "![](images/pipeline_sample.png)\n",
    "\n",
    "\n",
    "---"
   ]
  },
  {
   "cell_type": "code",
   "execution_count": 105,
   "id": "english-slope",
   "metadata": {
    "application/vnd.databricks.v1+cell": {
     "inputWidgets": {},
     "nuid": "9615252d-dcb4-45a3-b075-4d835f1354cd",
     "showTitle": false,
     "title": ""
    }
   },
   "outputs": [],
   "source": [
    "# Define stage 1 : Label Encode category_1\n",
    "stage_1 = StringIndexer(inputCol= 'category_1', outputCol= 'category_1_index')\n",
    "\n",
    "# Define stage 2 : Label Encode category_2\n",
    "stage_2 = StringIndexer(inputCol= 'category_2', outputCol= 'category_2_index')\n",
    "\n",
    "# Define stage 3 : One-Hot Encode label encoded category_2\n",
    "stage_3 = OneHotEncoderEstimator(inputCols= ['category_2_index'], outputCols= ['category_2_OHE'])"
   ]
  },
  {
   "cell_type": "markdown",
   "id": "average-johnston",
   "metadata": {
    "application/vnd.databricks.v1+cell": {
     "inputWidgets": {},
     "nuid": "5d33967f-d51e-4cb5-bc3c-957951595a3c",
     "showTitle": false,
     "title": ""
    }
   },
   "source": [
    "---\n",
    "#### **Defining the Pipeline**\n",
    "\n",
    "All stages to be applied are listed in the Pipeline object.\n",
    "\n",
    "---"
   ]
  },
  {
   "cell_type": "code",
   "execution_count": 106,
   "id": "amino-canyon",
   "metadata": {
    "application/vnd.databricks.v1+cell": {
     "inputWidgets": {},
     "nuid": "bd20d528-46d9-4acd-bf0b-26a1348f5f78",
     "showTitle": false,
     "title": ""
    }
   },
   "outputs": [],
   "source": [
    "# Setup the pipeline object with the three stages\n",
    "pipeline = Pipeline(stages=[stage_1, stage_2, stage_3])"
   ]
  },
  {
   "cell_type": "markdown",
   "id": "widespread-strain",
   "metadata": {
    "application/vnd.databricks.v1+cell": {
     "inputWidgets": {},
     "nuid": "9a72c668-ff58-411a-b2c1-5e7bde731d73",
     "showTitle": false,
     "title": ""
    }
   },
   "source": [
    "----\n",
    "\n",
    "#### **`Fit` and `Transform` the Pipeline**\n",
    "\n",
    "---"
   ]
  },
  {
   "cell_type": "code",
   "execution_count": 107,
   "id": "hundred-dominant",
   "metadata": {
    "application/vnd.databricks.v1+cell": {
     "inputWidgets": {},
     "nuid": "018436a0-615c-41bf-9b0b-e4986625ae17",
     "showTitle": false,
     "title": ""
    }
   },
   "outputs": [],
   "source": [
    "# Fit the Pipeline model on the dataframe\n",
    "pipeline_model = pipeline.fit(sample_df)"
   ]
  },
  {
   "cell_type": "code",
   "execution_count": 108,
   "id": "configured-prescription",
   "metadata": {},
   "outputs": [],
   "source": [
    "# Transform the dataframe\n",
    "sample_df_updated = pipeline_model.transform(sample_df)"
   ]
  },
  {
   "cell_type": "code",
   "execution_count": 109,
   "id": "developmental-pierce",
   "metadata": {},
   "outputs": [
    {
     "name": "stdout",
     "output_type": "stream",
     "text": [
      "+---+----------+----------+----------------+----------------+--------------+\n",
      "| id|category_1|category_2|category_1_index|category_2_index|category_2_OHE|\n",
      "+---+----------+----------+----------------+----------------+--------------+\n",
      "|  1|      L101|         R|             4.0|             0.0| (1,[0],[1.0])|\n",
      "|  2|      L201|         C|             1.0|             1.0|     (1,[],[])|\n",
      "|  3|      D111|         R|             3.0|             0.0| (1,[0],[1.0])|\n",
      "|  4|      F210|         R|             0.0|             0.0| (1,[0],[1.0])|\n",
      "|  5|      D110|         C|             2.0|             1.0|     (1,[],[])|\n",
      "+---+----------+----------+----------------+----------------+--------------+\n",
      "\n"
     ]
    }
   ],
   "source": [
    "# View the transformed data\n",
    "sample_df_updated.show()"
   ]
  },
  {
   "cell_type": "markdown",
   "id": "charitable-adrian",
   "metadata": {},
   "source": [
    "---\n",
    "\n",
    "\n",
    "We have three new columns containing output from the three stages."
   ]
  },
  {
   "cell_type": "markdown",
   "id": "noticed-height",
   "metadata": {
    "application/vnd.databricks.v1+cell": {
     "inputWidgets": {},
     "nuid": "110815ea-0099-44bd-a35e-0078541964b7",
     "showTitle": false,
     "title": ""
    }
   },
   "source": [
    "---\n",
    "#### **Creating Custom Transformer**\n",
    "\n",
    "We can also create custom transformers to accomplish tasks that are not present in Spark ML by default. For example, we can create a custom transformer for replacing `null` values in the dataframe."
   ]
  },
  {
   "cell_type": "markdown",
   "id": "functioning-simple",
   "metadata": {},
   "source": [
    "Let's create a sample dataframe with some `null` values.\n",
    "\n",
    "---"
   ]
  },
  {
   "cell_type": "code",
   "execution_count": 110,
   "id": "environmental-walter",
   "metadata": {
    "application/vnd.databricks.v1+cell": {
     "inputWidgets": {},
     "nuid": "c26d3f2a-ae64-40c7-9d5b-5365e7a87d06",
     "showTitle": false,
     "title": ""
    }
   },
   "outputs": [],
   "source": [
    "# Create a sample dataframe\n",
    "sample_df = spark.createDataFrame([\n",
    "                                    (1, 'L101', None),\n",
    "                                    (2, 'L201', 'C'),\n",
    "                                    (3, 'D330', None),\n",
    "                                    (4, 'F212', None),\n",
    "                                    (5, 'D110', 'C')\n",
    "                                  ], ['id', 'category_1', 'category_2'])"
   ]
  },
  {
   "cell_type": "code",
   "execution_count": 111,
   "id": "simplified-mirror",
   "metadata": {
    "scrolled": true
   },
   "outputs": [
    {
     "name": "stdout",
     "output_type": "stream",
     "text": [
      "+---+----------+----------+\n",
      "| id|category_1|category_2|\n",
      "+---+----------+----------+\n",
      "|  1|      L101|      null|\n",
      "|  2|      L201|         C|\n",
      "|  3|      D330|      null|\n",
      "|  4|      F212|      null|\n",
      "|  5|      D110|         C|\n",
      "+---+----------+----------+\n",
      "\n"
     ]
    }
   ],
   "source": [
    "# View dataframe\n",
    "sample_df.show()"
   ]
  },
  {
   "cell_type": "markdown",
   "id": "champion-hobby",
   "metadata": {},
   "source": [
    "**Define the custom transformer class to do the following:**\n",
    "- Replace null values with provided values."
   ]
  },
  {
   "cell_type": "code",
   "execution_count": 112,
   "id": "still-masters",
   "metadata": {
    "application/vnd.databricks.v1+cell": {
     "inputWidgets": {},
     "nuid": "20510817-e145-4cab-9913-d300cf65641d",
     "showTitle": false,
     "title": ""
    }
   },
   "outputs": [],
   "source": [
    "# Custom transformer class\n",
    "# Inherit Transformer, HasInputCol parent classes\n",
    "class customTransformer(Transformer, HasInputCol):\n",
    "  \n",
    "    # Class constructor\n",
    "    def __init__(self, inputCol= None, fill_with = None):\n",
    "        \n",
    "        # input columns\n",
    "        self.inputCol  = inputCol\n",
    "        \n",
    "        # null value replacements\n",
    "        self.fill_with = fill_with\n",
    "\n",
    "    \n",
    "    # Define custom transformer\n",
    "    def _transform(self, dataset):\n",
    "        \n",
    "        # Replace null values in the passed dataframe \n",
    "        dataset = dataset.fillna({self.inputCol : self.fill_with})\n",
    "    \n",
    "        return dataset"
   ]
  },
  {
   "cell_type": "markdown",
   "id": "appointed-clothing",
   "metadata": {},
   "source": [
    "Now that we have created a custom transformer, we can apply this transformer to "
   ]
  },
  {
   "cell_type": "code",
   "execution_count": 113,
   "id": "interesting-briefing",
   "metadata": {
    "application/vnd.databricks.v1+cell": {
     "inputWidgets": {},
     "nuid": "9753c653-753b-4c41-8fde-82d3e90b3bc3",
     "showTitle": false,
     "title": ""
    }
   },
   "outputs": [],
   "source": [
    "# Define custom trasnformer object\n",
    "s1 = customTransformer(inputCol= \"category_2\", \n",
    "                       fill_with= \"A\")"
   ]
  },
  {
   "cell_type": "code",
   "execution_count": 114,
   "id": "indie-place",
   "metadata": {
    "application/vnd.databricks.v1+cell": {
     "inputWidgets": {},
     "nuid": "1621f2e1-0cbd-4dd0-9544-4a675285d91f",
     "showTitle": false,
     "title": ""
    }
   },
   "outputs": [],
   "source": [
    "# Create pipeline object with the custom trasnformer stage\n",
    "p = Pipeline(stages=[s1])"
   ]
  },
  {
   "cell_type": "code",
   "execution_count": 115,
   "id": "qualified-jacob",
   "metadata": {
    "application/vnd.databricks.v1+cell": {
     "inputWidgets": {},
     "nuid": "1f188e85-d659-47f3-9e08-c67f4b6ca38d",
     "showTitle": false,
     "title": ""
    }
   },
   "outputs": [],
   "source": [
    "# Fit pipeline on the dataframe\n",
    "custom_pipeline = p.fit(sample_df)"
   ]
  },
  {
   "cell_type": "code",
   "execution_count": 116,
   "id": "pacific-break",
   "metadata": {
    "application/vnd.databricks.v1+cell": {
     "inputWidgets": {},
     "nuid": "186cd158-426f-47f4-aee2-60243aa21c31",
     "showTitle": false,
     "title": ""
    }
   },
   "outputs": [],
   "source": [
    "# View updated dataframe\n",
    "transformed_df = custom_pipeline.transform(sample_df)"
   ]
  },
  {
   "cell_type": "code",
   "execution_count": 117,
   "id": "widespread-awareness",
   "metadata": {},
   "outputs": [
    {
     "name": "stdout",
     "output_type": "stream",
     "text": [
      "+---+----------+----------+\n",
      "| id|category_1|category_2|\n",
      "+---+----------+----------+\n",
      "|  1|      L101|         A|\n",
      "|  2|      L201|         C|\n",
      "|  3|      D330|         A|\n",
      "|  4|      F212|         A|\n",
      "|  5|      D110|         C|\n",
      "+---+----------+----------+\n",
      "\n"
     ]
    }
   ],
   "source": [
    "transformed_df.show()"
   ]
  },
  {
   "cell_type": "markdown",
   "id": "analyzed-september",
   "metadata": {},
   "source": [
    "- `null` values in `category_2` column have been replaced with `A`.\n",
    "- New column `transformed` has been formed with the numeric mappings."
   ]
  },
  {
   "cell_type": "code",
   "execution_count": null,
   "id": "atmospheric-wings",
   "metadata": {},
   "outputs": [],
   "source": []
  },
  {
   "cell_type": "code",
   "execution_count": null,
   "id": "starting-midwest",
   "metadata": {},
   "outputs": [],
   "source": []
  },
  {
   "cell_type": "code",
   "execution_count": null,
   "id": "verbal-establishment",
   "metadata": {},
   "outputs": [],
   "source": []
  },
  {
   "cell_type": "code",
   "execution_count": null,
   "id": "attractive-commander",
   "metadata": {},
   "outputs": [],
   "source": []
  },
  {
   "cell_type": "code",
   "execution_count": null,
   "id": "according-clearance",
   "metadata": {},
   "outputs": [],
   "source": []
  },
  {
   "cell_type": "code",
   "execution_count": null,
   "id": "norwegian-freight",
   "metadata": {},
   "outputs": [],
   "source": []
  },
  {
   "cell_type": "markdown",
   "id": "orange-cabin",
   "metadata": {},
   "source": [
    "---\n",
    "\n",
    "## `Click Prediction - Pipelines`\n",
    "\n",
    "---"
   ]
  },
  {
   "cell_type": "markdown",
   "id": "elder-commerce",
   "metadata": {},
   "source": [
    "---\n",
    "\n",
    "#### `LOAD THE DATASET`\n",
    "\n",
    "---"
   ]
  },
  {
   "cell_type": "code",
   "execution_count": 118,
   "id": "comic-mongolia",
   "metadata": {},
   "outputs": [],
   "source": [
    "train_data_pipeline = spark.read.csv(\"Spark_ML_Project/dataset/train.csv\", inferSchema=True, header=True)\n",
    "valid_data_pipeline =  spark.read.csv(\"Spark_ML_Project/dataset/valid.csv\", inferSchema=True, header=True)\n",
    "test_data_pipeline = spark.read.csv(\"Spark_ML_Project/dataset/test.csv\", inferSchema=True, header=True)"
   ]
  },
  {
   "cell_type": "code",
   "execution_count": 119,
   "id": "encouraging-arnold",
   "metadata": {},
   "outputs": [],
   "source": [
    "train_data_pipeline = train_data_pipeline.withColumn(\"ConversionStatus\", F.col(\"ConversionStatus\").cast(tp.IntegerType()))"
   ]
  },
  {
   "cell_type": "markdown",
   "id": "expired-japan",
   "metadata": {},
   "source": [
    "---\n",
    "### `Define the stages of the Pipeline`\n",
    "\n",
    "  * **STAGE 1**: [Transformer] Fill null values with in each column\n",
    "  * **STAGE 2**: [Transformer] Reduce Category\n",
    "  * **STAGE 3**: [Estimator] Label Encode: Traffic\n",
    "  * **STAGE 4**: [Estimator] Label Encode: Country\n",
    "  * **STAGE 5**: [Estimator] Label Encode: Browser\n",
    "  * **STAGE 6**: [Estimator] Label Encode: OS\n",
    "  * **STAGE 7**: [Estimator] OHE: Country, Browser, OS\n",
    "  * **STAGE 8**: [Transformer] Create Feature: Total Click per Publisher ID, Total Click per Campaign ID\n",
    "  * **STAGE 9**: Transformer] Create Vector [ Traffic (LE), Fraud, Average_Click per Puplisher ID, Average Click per Campaign ID, Country (OHE), Browser (OHE), Device (OHE), OS (OHE)]\n",
    "  * **STAGE 10**: [Estimator] Predict Labels Using the Logistic Regression\n",
    "\n",
    "\n",
    "\n"
   ]
  },
  {
   "cell_type": "markdown",
   "id": "demanding-folks",
   "metadata": {},
   "source": [
    "---\n",
    "#### **`Define Custom Transformers`**\n",
    "\n",
    "* Custom transformer to fill null values\n",
    "* Custom transformer to reduce categories\n",
    "* Custom transformer to create features\n",
    "\n",
    "----\n",
    "#### `Custom Transformer to fill Null Values`\n",
    "\n",
    "* Fill null value with mode from respective column.\n",
    "---"
   ]
  },
  {
   "cell_type": "code",
   "execution_count": 120,
   "id": "mighty-manchester",
   "metadata": {},
   "outputs": [],
   "source": [
    "# custom transformer to fill null values\n",
    "\n",
    "class nullValuesTransformer(Transformer):\n",
    "    \n",
    "    def __init__(self, dataframe = None):\n",
    "        self.dataframe = dataframe\n",
    "    \n",
    "    def _transform(self, dataframe):\n",
    "        dataframe = dataframe.fillna({\n",
    "            \"Fraud\" : 0,\n",
    "            \"Country\": \"IN\",\n",
    "            \"TrafficType\" : \"U\",\n",
    "            \"Device\": \"Generic\",\n",
    "            \"Browser\": \"chrome\",\n",
    "            \"OS\": \"Android\",\n",
    "        })\n",
    "        \n",
    "        return dataframe"
   ]
  },
  {
   "cell_type": "markdown",
   "id": "destroyed-yemen",
   "metadata": {},
   "source": [
    "---\n",
    "\n",
    "#### `Custom Transformer to reduce categories`\n",
    "\n",
    "* Reduce categories for - Country, Device, Browser, OS\n",
    "---"
   ]
  },
  {
   "cell_type": "code",
   "execution_count": 121,
   "id": "built-chain",
   "metadata": {},
   "outputs": [],
   "source": [
    "# Creating custom Transformer to reduce the categories of multiple features\n",
    "class reduceCategories(Transformer):\n",
    "    \n",
    "    def __init__(self, dataframe = None):\n",
    "        self.dataframe = dataframe\n",
    "        \n",
    "    def _transform(self, dataframe):\n",
    "        \n",
    "        # map the countries\n",
    "        dataframe = dataframe.withColumn(\"country_modified\", map_countries_udf(dataframe[\"Country\"]))\n",
    "        \n",
    "         # map device\n",
    "        dataframe = dataframe.withColumn(\"device_modified\", map_device_udf(dataframe[\"Device\"]))\n",
    "        \n",
    "        # map browser\n",
    "        dataframe = dataframe.withColumn(\"browser_modified\", map_browser_udf(dataframe[\"Browser\"]))\n",
    "\n",
    "        # map the os\n",
    "        dataframe = dataframe.withColumn(\"os_modified\", map_os_udf(dataframe[\"OS\"]))\n",
    "        \n",
    "        return dataframe"
   ]
  },
  {
   "cell_type": "markdown",
   "id": "arctic-ending",
   "metadata": {},
   "source": [
    "---\n",
    "\n",
    "#### `Custom Transformer to create features`\n",
    "\n",
    "* Total clicks per Campaign ID\n",
    "* Total clicks per Publisher ID\n",
    "---"
   ]
  },
  {
   "cell_type": "code",
   "execution_count": 122,
   "id": "equipped-michigan",
   "metadata": {},
   "outputs": [],
   "source": [
    "# Creating two new features: total clicks per campaign Id, total clicks per publisher Id\n",
    "class frequencyEncoding(Transformer):\n",
    "    \n",
    "    def __init__(self, dataframe = None):\n",
    "        self.dataframe = dataframe\n",
    "        \n",
    "    def _transform(self, dataframe):\n",
    "        \n",
    "        # join total clicks per advertiser Campaign Id\n",
    "        dataframe = dataframe.join(total_c_id, on=\"advertiserCampaignId\")\n",
    "        \n",
    "        # join total clicks per publisher id dataframe\n",
    "        dataframe = dataframe.join(total_p_id, on=\"publisherId\")\n",
    "        \n",
    "        # replace null values\n",
    "        dataframe = dataframe.fillna({\n",
    "            'total_p_id': 0.0,\n",
    "            'total_c_id' : 0.0,\n",
    "        })\n",
    "        \n",
    "        return dataframe\n",
    "        "
   ]
  },
  {
   "cell_type": "markdown",
   "id": "cheap-worry",
   "metadata": {},
   "source": [
    "---\n",
    "\n",
    "\n",
    "#### **`Define the Stages`**\n",
    "\n",
    "---"
   ]
  },
  {
   "cell_type": "code",
   "execution_count": 123,
   "id": "instrumental-camel",
   "metadata": {},
   "outputs": [],
   "source": [
    "# Stage 1 - replace null values\n",
    "stage_1 = nullValuesTransformer()\n",
    "\n",
    "# stage 2 - reduce categories\n",
    "stage_2 = reduceCategories()\n",
    "\n",
    "# Stage 3 - label encode Traffic_Type column\n",
    "stage_3 = StringIndexer(inputCol= \"TrafficType\", outputCol= \"traffic_le\") \n",
    "\n",
    "# Stage 4 - label encode Country column\n",
    "stage_4 = StringIndexer(inputCol= \"country_modified\", outputCol= \"country_le\")\n",
    "\n",
    "# Stage 5 - label encode Browser column\n",
    "stage_5 = StringIndexer(inputCol= \"browser_modified\", outputCol= \"browser_le\")\n",
    "\n",
    "# Stage 6 - label encode OS column\n",
    "stage_6 = StringIndexer(inputCol= \"os_modified\", outputCol= \"os_le\")\n",
    "\n",
    " # Stage 7 - One Hot Encode columns\n",
    "stage_7 = OneHotEncoderEstimator(inputCols= [\"country_le\",  \"browser_le\", \"os_le\", \"traffic_le\"], \n",
    "                        outputCols= [\"country_ohe\",  \"browser_ohe\", \"os_ohe\", \"traffic_ohe\"])\n",
    "\n",
    "# stage 8 - Create new features for total clicks per campaign id and per pulisher id\n",
    "stage_8 = frequencyEncoding()\n",
    "\n",
    "# Stage 9 - Create vector from the columns\n",
    "stage_9 = VectorAssembler(inputCols= [\"Fraud\",\n",
    "                                      \"traffic_ohe\",\n",
    "                                      \"country_ohe\",\n",
    "                                      \"device_modified\",\n",
    "                                      \"browser_ohe\",\n",
    "                                      \"os_ohe\",\n",
    "                                      'total_p_id',\n",
    "                                      'total_c_id',],\n",
    "\n",
    "                         outputCol=  \"feature_vector\")\n",
    "\n",
    "# Stage 10 - Train ML model\n",
    "stage_10 = classification.LogisticRegression(featuresCol= \"feature_vector\", labelCol= \"ConversionStatus\")"
   ]
  },
  {
   "cell_type": "markdown",
   "id": "postal-papua",
   "metadata": {},
   "source": [
    "---\n",
    "\n",
    "#### **`Define the Pipeline`**\n",
    "\n",
    "----"
   ]
  },
  {
   "cell_type": "code",
   "execution_count": 124,
   "id": "functional-justice",
   "metadata": {},
   "outputs": [],
   "source": [
    "# Define pipeline\n",
    "pipeline = Pipeline(stages= [stage_1,\n",
    "                             stage_2,\n",
    "                             stage_3,\n",
    "                             stage_4,\n",
    "                             stage_5,\n",
    "                             stage_6,\n",
    "                             stage_7,\n",
    "                             stage_8,\n",
    "                             stage_9,\n",
    "                             stage_10])"
   ]
  },
  {
   "cell_type": "markdown",
   "id": "external-winter",
   "metadata": {},
   "source": [
    "---\n",
    "\n",
    "### `FIT AND TRANSFORM THE PIPELINE`\n",
    "\n",
    "---"
   ]
  },
  {
   "cell_type": "code",
   "execution_count": 125,
   "id": "under-assessment",
   "metadata": {},
   "outputs": [],
   "source": [
    "# fit the pipeline with the training data\n",
    "pipeline_model = pipeline.fit(train_data_pipeline)\n",
    "\n",
    "# transform data\n",
    "final_data = pipeline_model.transform(train_data_pipeline)"
   ]
  },
  {
   "cell_type": "code",
   "execution_count": 126,
   "id": "spiritual-stevens",
   "metadata": {
    "scrolled": true
   },
   "outputs": [
    {
     "name": "stdout",
     "output_type": "stream",
     "text": [
      "+-------+----------------+--------------------+--------------------+----------+\n",
      "|     ID|ConversionStatus|       rawPrediction|         probability|prediction|\n",
      "+-------+----------------+--------------------+--------------------+----------+\n",
      "|1149677|               0|[7.21822491516255...|[0.99926743446182...|       0.0|\n",
      "|1244757|               0|[6.80345070629307...|[0.99889129213711...|       0.0|\n",
      "|1043606|               0|[6.93796492209716...|[0.99903069834962...|       0.0|\n",
      "|1984593|               0|[7.14197862531680...|[0.99920944039110...|       0.0|\n",
      "| 576666|               0|[7.00502755266701...|[0.99909351352712...|       0.0|\n",
      "| 207309|               0|[7.00502755266701...|[0.99909351352712...|       0.0|\n",
      "| 953682|               0|[7.00502755266701...|[0.99909351352712...|       0.0|\n",
      "|1340626|               0|[7.01222040768815...|[0.99910000451238...|       0.0|\n",
      "| 410875|               0|[7.00502755266701...|[0.99909351352712...|       0.0|\n",
      "|1102275|               0|[7.01222040768815...|[0.99910000451238...|       0.0|\n",
      "+-------+----------------+--------------------+--------------------+----------+\n",
      "only showing top 10 rows\n",
      "\n"
     ]
    }
   ],
   "source": [
    "final_data.select(\"ID\", \"ConversionStatus\", \"rawPrediction\", \"probability\", \"prediction\").show(10)"
   ]
  },
  {
   "cell_type": "markdown",
   "id": "original-attribute",
   "metadata": {},
   "source": [
    "---\n",
    "\n",
    "#### `TRANSFORM THE VALIDATION DATA`\n",
    "\n",
    "---"
   ]
  },
  {
   "cell_type": "code",
   "execution_count": 127,
   "id": "temporal-summit",
   "metadata": {},
   "outputs": [],
   "source": [
    "final_valid_data = pipeline_model.transform(valid_data_pipeline)"
   ]
  },
  {
   "cell_type": "code",
   "execution_count": 128,
   "id": "african-singles",
   "metadata": {},
   "outputs": [
    {
     "data": {
      "text/plain": [
       "['publisherId',\n",
       " 'advertiserCampaignId',\n",
       " 'ID',\n",
       " 'Country',\n",
       " 'Carrier',\n",
       " 'TrafficType',\n",
       " 'ClickDate',\n",
       " 'Device',\n",
       " 'Browser',\n",
       " 'OS',\n",
       " 'ConversionStatus',\n",
       " 'Fraud',\n",
       " 'country_modified',\n",
       " 'device_modified',\n",
       " 'browser_modified',\n",
       " 'os_modified',\n",
       " 'traffic_le',\n",
       " 'country_le',\n",
       " 'browser_le',\n",
       " 'os_le',\n",
       " 'country_ohe',\n",
       " 'browser_ohe',\n",
       " 'os_ohe',\n",
       " 'traffic_ohe',\n",
       " 'total_c_id',\n",
       " 'total_p_id',\n",
       " 'feature_vector',\n",
       " 'rawPrediction',\n",
       " 'probability',\n",
       " 'prediction']"
      ]
     },
     "execution_count": 128,
     "metadata": {},
     "output_type": "execute_result"
    }
   ],
   "source": [
    "final_valid_data.columns"
   ]
  },
  {
   "cell_type": "code",
   "execution_count": 129,
   "id": "injured-armor",
   "metadata": {},
   "outputs": [
    {
     "name": "stdout",
     "output_type": "stream",
     "text": [
      "+-------+----------------+--------------------+--------------------+----------+\n",
      "|     ID|ConversionStatus|       rawPrediction|         probability|prediction|\n",
      "+-------+----------------+--------------------+--------------------+----------+\n",
      "|1777264|           false|[8.16490777138877...|[0.99971561801155...|       0.0|\n",
      "| 384588|           false|[8.16672012629907...|[0.99971613279971...|       0.0|\n",
      "| 206936|           false|[5.946353857582,-...|[0.99739146313408...|       0.0|\n",
      "| 555122|           false|[5.95354671260314...|[0.99741011022462...|       0.0|\n",
      "| 916258|           false|[7.20258003808803...|[0.99925589203769...|       0.0|\n",
      "| 247351|           false|[6.65166829846339...|[0.99870980167203...|       0.0|\n",
      "|1047148|           false|[7.20977289310918...|[0.99926122115549...|       0.0|\n",
      "|1295510|           false|[7.20258003808803...|[0.99925589203769...|       0.0|\n",
      "| 764131|           false|[5.95354671260314...|[0.99741011022462...|       0.0|\n",
      "| 613259|           false|[7.20258003808803...|[0.99925589203769...|       0.0|\n",
      "+-------+----------------+--------------------+--------------------+----------+\n",
      "only showing top 10 rows\n",
      "\n"
     ]
    }
   ],
   "source": [
    "final_valid_data.select(\"ID\", \"ConversionStatus\", \"rawPrediction\", \"probability\", \"prediction\").show(10)"
   ]
  },
  {
   "cell_type": "markdown",
   "id": "nasty-puzzle",
   "metadata": {},
   "source": [
    "---\n",
    "\n",
    "#### `TRANSFORM THE TEST DATA`\n",
    "\n",
    "---"
   ]
  },
  {
   "cell_type": "code",
   "execution_count": 130,
   "id": "rapid-soldier",
   "metadata": {},
   "outputs": [],
   "source": [
    "final_test_data = pipeline_model.transform(test_data_pipeline)"
   ]
  },
  {
   "cell_type": "code",
   "execution_count": 131,
   "id": "peaceful-abuse",
   "metadata": {},
   "outputs": [
    {
     "name": "stdout",
     "output_type": "stream",
     "text": [
      "+-------+----------------+--------------------+--------------------+----------+\n",
      "|     ID|ConversionStatus|       rawPrediction|         probability|prediction|\n",
      "+-------+----------------+--------------------+--------------------+----------+\n",
      "| 384199|           false|[8.18692284703255...|[0.99972180856806...|       0.0|\n",
      "| 206636|           false|[5.95354671260314...|[0.99741011022462...|       0.0|\n",
      "| 306669|           false|[5.946353857582,-...|[0.99739146313408...|       0.0|\n",
      "| 485612|           false|[7.20258003808803...|[0.99925589203769...|       0.0|\n",
      "|1985870|           false|[5.95354671260314...|[0.99741011022462...|       0.0|\n",
      "| 572098|           false|[7.20977289310918...|[0.99926122115549...|       0.0|\n",
      "| 306804|           false|[5.946353857582,-...|[0.99739146313408...|       0.0|\n",
      "|1121201|           false|[7.14273711161171...|[0.99921003931888...|       0.0|\n",
      "|  19906|           false|[5.95354671260314...|[0.99741011022462...|       0.0|\n",
      "| 197325|           false|[5.98891594556685...|[0.99749988660332...|       0.0|\n",
      "+-------+----------------+--------------------+--------------------+----------+\n",
      "only showing top 10 rows\n",
      "\n"
     ]
    }
   ],
   "source": [
    "final_test_data.select(\"ID\", \"ConversionStatus\", \"rawPrediction\", \"probability\", \"prediction\").show(10)"
   ]
  },
  {
   "cell_type": "code",
   "execution_count": null,
   "id": "extensive-drama",
   "metadata": {},
   "outputs": [],
   "source": []
  },
  {
   "cell_type": "code",
   "execution_count": null,
   "id": "statutory-representation",
   "metadata": {},
   "outputs": [],
   "source": []
  },
  {
   "cell_type": "code",
   "execution_count": null,
   "id": "standing-hostel",
   "metadata": {},
   "outputs": [],
   "source": []
  }
 ],
 "metadata": {
  "kernelspec": {
   "display_name": "Pyspark 2",
   "language": "python",
   "name": "pyspark2"
  },
  "language_info": {
   "codemirror_mode": {
    "name": "ipython",
    "version": 3
   },
   "file_extension": ".py",
   "mimetype": "text/x-python",
   "name": "python",
   "nbconvert_exporter": "python",
   "pygments_lexer": "ipython3",
   "version": "3.6.12"
  }
 },
 "nbformat": 4,
 "nbformat_minor": 5
}
